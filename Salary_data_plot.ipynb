{
  "cells": [
    {
      "cell_type": "markdown",
      "metadata": {
        "id": "f31Wt4ZF3lgq"
      },
      "source": [
        "# Libraries\n"
      ]
    },
    {
      "cell_type": "code",
      "execution_count": 2,
      "metadata": {},
      "outputs": [
        {
          "name": "stdout",
          "output_type": "stream",
          "text": [
            "Collecting seaborn\n",
            "  Using cached seaborn-0.13.0-py3-none-any.whl.metadata (5.3 kB)\n",
            "Requirement already satisfied: numpy!=1.24.0,>=1.20 in c:\\users\\ripple\\appdata\\local\\programs\\python\\python311\\lib\\site-packages (from seaborn) (1.25.2)\n",
            "Requirement already satisfied: pandas>=1.2 in c:\\users\\ripple\\appdata\\local\\programs\\python\\python311\\lib\\site-packages (from seaborn) (2.0.3)\n",
            "Requirement already satisfied: matplotlib!=3.6.1,>=3.3 in c:\\users\\ripple\\appdata\\local\\programs\\python\\python311\\lib\\site-packages (from seaborn) (3.8.2)\n",
            "Requirement already satisfied: contourpy>=1.0.1 in c:\\users\\ripple\\appdata\\local\\programs\\python\\python311\\lib\\site-packages (from matplotlib!=3.6.1,>=3.3->seaborn) (1.2.0)\n",
            "Requirement already satisfied: cycler>=0.10 in c:\\users\\ripple\\appdata\\local\\programs\\python\\python311\\lib\\site-packages (from matplotlib!=3.6.1,>=3.3->seaborn) (0.12.1)\n",
            "Requirement already satisfied: fonttools>=4.22.0 in c:\\users\\ripple\\appdata\\local\\programs\\python\\python311\\lib\\site-packages (from matplotlib!=3.6.1,>=3.3->seaborn) (4.46.0)\n",
            "Requirement already satisfied: kiwisolver>=1.3.1 in c:\\users\\ripple\\appdata\\local\\programs\\python\\python311\\lib\\site-packages (from matplotlib!=3.6.1,>=3.3->seaborn) (1.4.5)\n",
            "Requirement already satisfied: packaging>=20.0 in c:\\users\\ripple\\appdata\\local\\programs\\python\\python311\\lib\\site-packages (from matplotlib!=3.6.1,>=3.3->seaborn) (23.1)\n",
            "Requirement already satisfied: pillow>=8 in c:\\users\\ripple\\appdata\\local\\programs\\python\\python311\\lib\\site-packages (from matplotlib!=3.6.1,>=3.3->seaborn) (9.3.0)\n",
            "Requirement already satisfied: pyparsing>=2.3.1 in c:\\users\\ripple\\appdata\\local\\programs\\python\\python311\\lib\\site-packages (from matplotlib!=3.6.1,>=3.3->seaborn) (3.1.1)\n",
            "Requirement already satisfied: python-dateutil>=2.7 in c:\\users\\ripple\\appdata\\local\\programs\\python\\python311\\lib\\site-packages (from matplotlib!=3.6.1,>=3.3->seaborn) (2.8.2)\n",
            "Requirement already satisfied: pytz>=2020.1 in c:\\users\\ripple\\appdata\\local\\programs\\python\\python311\\lib\\site-packages (from pandas>=1.2->seaborn) (2023.3)\n",
            "Requirement already satisfied: tzdata>=2022.1 in c:\\users\\ripple\\appdata\\local\\programs\\python\\python311\\lib\\site-packages (from pandas>=1.2->seaborn) (2023.3)\n",
            "Requirement already satisfied: six>=1.5 in c:\\users\\ripple\\appdata\\local\\programs\\python\\python311\\lib\\site-packages (from python-dateutil>=2.7->matplotlib!=3.6.1,>=3.3->seaborn) (1.16.0)\n",
            "Using cached seaborn-0.13.0-py3-none-any.whl (294 kB)\n",
            "Installing collected packages: seaborn\n",
            "Successfully installed seaborn-0.13.0\n",
            "Note: you may need to restart the kernel to use updated packages.\n"
          ]
        }
      ],
      "source": [
        "%pip install seaborn"
      ]
    },
    {
      "cell_type": "code",
      "execution_count": 4,
      "metadata": {
        "id": "Z_h7LcE03lgq"
      },
      "outputs": [],
      "source": [
        "### IMPORT: ------------------------------------\n",
        "import scipy.stats as stats #It has all the probability distributions available along with many statistical functions.\n",
        "import pandas as pd\n",
        "import numpy as np\n",
        "import matplotlib.pyplot as plt\n",
        "%matplotlib inline\n",
        "import seaborn as sns\n",
        "import warnings\n",
        "warnings.filterwarnings('ignore') # To supress warnings\n",
        "sns.set(style=\"darkgrid\") # set the background for the graphs\n",
        "from scipy.stats import skew\n",
        "\n",
        "# from statsmodels.stats.proportion import proportions_ztest # For proportion Z-test\n",
        "# from statsmodels.formula.api import ols      # For n-way ANOVA\n",
        "# from statsmodels.stats.anova import anova_lm # For n-way ANOVA\n",
        "# from   scipy.stats import chi2_contingency   # For Chi-Sq"
      ]
    },
    {
      "cell_type": "code",
      "execution_count": null,
      "metadata": {
        "id": "-qIUYYfc37GE"
      },
      "outputs": [],
      "source": []
    },
    {
      "cell_type": "markdown",
      "metadata": {
        "id": "-leACZRg3lgr"
      },
      "source": [
        "# Read and Understand Data"
      ]
    },
    {
      "cell_type": "code",
      "execution_count": 6,
      "metadata": {
        "id": "ViPq5zV83lgr"
      },
      "outputs": [],
      "source": [
        "#Reading the csv file AxisInsurance.csv\n",
        "df = pd.read_csv('./Salary Data.csv')\n",
        "insured=df.copy()"
      ]
    },
    {
      "cell_type": "code",
      "execution_count": 7,
      "metadata": {
        "colab": {
          "base_uri": "https://localhost:8080/",
          "height": 206
        },
        "id": "DcAdupw33lgs",
        "outputId": "b1190fce-240f-4fde-fc0e-b6ea76661a06"
      },
      "outputs": [
        {
          "data": {
            "text/html": [
              "<div>\n",
              "<style scoped>\n",
              "    .dataframe tbody tr th:only-of-type {\n",
              "        vertical-align: middle;\n",
              "    }\n",
              "\n",
              "    .dataframe tbody tr th {\n",
              "        vertical-align: top;\n",
              "    }\n",
              "\n",
              "    .dataframe thead th {\n",
              "        text-align: right;\n",
              "    }\n",
              "</style>\n",
              "<table border=\"1\" class=\"dataframe\">\n",
              "  <thead>\n",
              "    <tr style=\"text-align: right;\">\n",
              "      <th></th>\n",
              "      <th>Age</th>\n",
              "      <th>Gender</th>\n",
              "      <th>Education Level</th>\n",
              "      <th>Job Title</th>\n",
              "      <th>Years of Experience</th>\n",
              "      <th>Salary</th>\n",
              "    </tr>\n",
              "  </thead>\n",
              "  <tbody>\n",
              "    <tr>\n",
              "      <th>0</th>\n",
              "      <td>32.0</td>\n",
              "      <td>Male</td>\n",
              "      <td>Bachelor's</td>\n",
              "      <td>Software Engineer</td>\n",
              "      <td>5.0</td>\n",
              "      <td>90000.0</td>\n",
              "    </tr>\n",
              "    <tr>\n",
              "      <th>1</th>\n",
              "      <td>28.0</td>\n",
              "      <td>Female</td>\n",
              "      <td>Master's</td>\n",
              "      <td>Data Analyst</td>\n",
              "      <td>3.0</td>\n",
              "      <td>65000.0</td>\n",
              "    </tr>\n",
              "    <tr>\n",
              "      <th>2</th>\n",
              "      <td>45.0</td>\n",
              "      <td>Male</td>\n",
              "      <td>PhD</td>\n",
              "      <td>Senior Manager</td>\n",
              "      <td>15.0</td>\n",
              "      <td>150000.0</td>\n",
              "    </tr>\n",
              "    <tr>\n",
              "      <th>3</th>\n",
              "      <td>36.0</td>\n",
              "      <td>Female</td>\n",
              "      <td>Bachelor's</td>\n",
              "      <td>Sales Associate</td>\n",
              "      <td>7.0</td>\n",
              "      <td>60000.0</td>\n",
              "    </tr>\n",
              "    <tr>\n",
              "      <th>4</th>\n",
              "      <td>52.0</td>\n",
              "      <td>Male</td>\n",
              "      <td>Master's</td>\n",
              "      <td>Director</td>\n",
              "      <td>20.0</td>\n",
              "      <td>200000.0</td>\n",
              "    </tr>\n",
              "  </tbody>\n",
              "</table>\n",
              "</div>"
            ],
            "text/plain": [
              "    Age  Gender Education Level          Job Title  Years of Experience  \\\n",
              "0  32.0    Male      Bachelor's  Software Engineer                  5.0   \n",
              "1  28.0  Female        Master's       Data Analyst                  3.0   \n",
              "2  45.0    Male             PhD     Senior Manager                 15.0   \n",
              "3  36.0  Female      Bachelor's    Sales Associate                  7.0   \n",
              "4  52.0    Male        Master's           Director                 20.0   \n",
              "\n",
              "     Salary  \n",
              "0   90000.0  \n",
              "1   65000.0  \n",
              "2  150000.0  \n",
              "3   60000.0  \n",
              "4  200000.0  "
            ]
          },
          "execution_count": 7,
          "metadata": {},
          "output_type": "execute_result"
        }
      ],
      "source": [
        "# inspect data, print top 5\n",
        "insured.head(5)"
      ]
    },
    {
      "cell_type": "code",
      "execution_count": 8,
      "metadata": {
        "colab": {
          "base_uri": "https://localhost:8080/",
          "height": 206
        },
        "id": "XIgdhw1W3lgs",
        "outputId": "a35ecb39-7187-471a-f4ef-a68a9746a6c9"
      },
      "outputs": [
        {
          "data": {
            "text/html": [
              "<div>\n",
              "<style scoped>\n",
              "    .dataframe tbody tr th:only-of-type {\n",
              "        vertical-align: middle;\n",
              "    }\n",
              "\n",
              "    .dataframe tbody tr th {\n",
              "        vertical-align: top;\n",
              "    }\n",
              "\n",
              "    .dataframe thead th {\n",
              "        text-align: right;\n",
              "    }\n",
              "</style>\n",
              "<table border=\"1\" class=\"dataframe\">\n",
              "  <thead>\n",
              "    <tr style=\"text-align: right;\">\n",
              "      <th></th>\n",
              "      <th>Age</th>\n",
              "      <th>Gender</th>\n",
              "      <th>Education Level</th>\n",
              "      <th>Job Title</th>\n",
              "      <th>Years of Experience</th>\n",
              "      <th>Salary</th>\n",
              "    </tr>\n",
              "  </thead>\n",
              "  <tbody>\n",
              "    <tr>\n",
              "      <th>370</th>\n",
              "      <td>35.0</td>\n",
              "      <td>Female</td>\n",
              "      <td>Bachelor's</td>\n",
              "      <td>Senior Marketing Analyst</td>\n",
              "      <td>8.0</td>\n",
              "      <td>85000.0</td>\n",
              "    </tr>\n",
              "    <tr>\n",
              "      <th>371</th>\n",
              "      <td>43.0</td>\n",
              "      <td>Male</td>\n",
              "      <td>Master's</td>\n",
              "      <td>Director of Operations</td>\n",
              "      <td>19.0</td>\n",
              "      <td>170000.0</td>\n",
              "    </tr>\n",
              "    <tr>\n",
              "      <th>372</th>\n",
              "      <td>29.0</td>\n",
              "      <td>Female</td>\n",
              "      <td>Bachelor's</td>\n",
              "      <td>Junior Project Manager</td>\n",
              "      <td>2.0</td>\n",
              "      <td>40000.0</td>\n",
              "    </tr>\n",
              "    <tr>\n",
              "      <th>373</th>\n",
              "      <td>34.0</td>\n",
              "      <td>Male</td>\n",
              "      <td>Bachelor's</td>\n",
              "      <td>Senior Operations Coordinator</td>\n",
              "      <td>7.0</td>\n",
              "      <td>90000.0</td>\n",
              "    </tr>\n",
              "    <tr>\n",
              "      <th>374</th>\n",
              "      <td>44.0</td>\n",
              "      <td>Female</td>\n",
              "      <td>PhD</td>\n",
              "      <td>Senior Business Analyst</td>\n",
              "      <td>15.0</td>\n",
              "      <td>150000.0</td>\n",
              "    </tr>\n",
              "  </tbody>\n",
              "</table>\n",
              "</div>"
            ],
            "text/plain": [
              "      Age  Gender Education Level                      Job Title  \\\n",
              "370  35.0  Female      Bachelor's       Senior Marketing Analyst   \n",
              "371  43.0    Male        Master's         Director of Operations   \n",
              "372  29.0  Female      Bachelor's         Junior Project Manager   \n",
              "373  34.0    Male      Bachelor's  Senior Operations Coordinator   \n",
              "374  44.0  Female             PhD        Senior Business Analyst   \n",
              "\n",
              "     Years of Experience    Salary  \n",
              "370                  8.0   85000.0  \n",
              "371                 19.0  170000.0  \n",
              "372                  2.0   40000.0  \n",
              "373                  7.0   90000.0  \n",
              "374                 15.0  150000.0  "
            ]
          },
          "execution_count": 8,
          "metadata": {},
          "output_type": "execute_result"
        }
      ],
      "source": [
        "# bottom 5 rows:\n",
        "insured.tail(5)"
      ]
    },
    {
      "cell_type": "code",
      "execution_count": 9,
      "metadata": {
        "colab": {
          "base_uri": "https://localhost:8080/"
        },
        "id": "gLlykhT5xR1c",
        "outputId": "a7249801-6340-41b0-8fe8-deb592d416c0"
      },
      "outputs": [
        {
          "name": "stdout",
          "output_type": "stream",
          "text": [
            "<class 'pandas.core.frame.DataFrame'>\n",
            "RangeIndex: 375 entries, 0 to 374\n",
            "Data columns (total 6 columns):\n",
            " #   Column               Non-Null Count  Dtype  \n",
            "---  ------               --------------  -----  \n",
            " 0   Age                  373 non-null    float64\n",
            " 1   Gender               373 non-null    object \n",
            " 2   Education Level      373 non-null    object \n",
            " 3   Job Title            373 non-null    object \n",
            " 4   Years of Experience  373 non-null    float64\n",
            " 5   Salary               373 non-null    float64\n",
            "dtypes: float64(3), object(3)\n",
            "memory usage: 17.7+ KB\n"
          ]
        }
      ],
      "source": [
        "insured.info()    #it give information about datatype of different columns"
      ]
    },
    {
      "cell_type": "code",
      "execution_count": 10,
      "metadata": {
        "colab": {
          "base_uri": "https://localhost:8080/",
          "height": 300
        },
        "id": "Yr4BEDukyLeu",
        "outputId": "bf81ec66-6b6d-4a81-ce24-69ec4296135d"
      },
      "outputs": [
        {
          "data": {
            "text/html": [
              "<div>\n",
              "<style scoped>\n",
              "    .dataframe tbody tr th:only-of-type {\n",
              "        vertical-align: middle;\n",
              "    }\n",
              "\n",
              "    .dataframe tbody tr th {\n",
              "        vertical-align: top;\n",
              "    }\n",
              "\n",
              "    .dataframe thead th {\n",
              "        text-align: right;\n",
              "    }\n",
              "</style>\n",
              "<table border=\"1\" class=\"dataframe\">\n",
              "  <thead>\n",
              "    <tr style=\"text-align: right;\">\n",
              "      <th></th>\n",
              "      <th>Age</th>\n",
              "      <th>Years of Experience</th>\n",
              "      <th>Salary</th>\n",
              "    </tr>\n",
              "  </thead>\n",
              "  <tbody>\n",
              "    <tr>\n",
              "      <th>count</th>\n",
              "      <td>373.000000</td>\n",
              "      <td>373.000000</td>\n",
              "      <td>373.000000</td>\n",
              "    </tr>\n",
              "    <tr>\n",
              "      <th>mean</th>\n",
              "      <td>37.431635</td>\n",
              "      <td>10.030831</td>\n",
              "      <td>100577.345845</td>\n",
              "    </tr>\n",
              "    <tr>\n",
              "      <th>std</th>\n",
              "      <td>7.069073</td>\n",
              "      <td>6.557007</td>\n",
              "      <td>48240.013482</td>\n",
              "    </tr>\n",
              "    <tr>\n",
              "      <th>min</th>\n",
              "      <td>23.000000</td>\n",
              "      <td>0.000000</td>\n",
              "      <td>350.000000</td>\n",
              "    </tr>\n",
              "    <tr>\n",
              "      <th>25%</th>\n",
              "      <td>31.000000</td>\n",
              "      <td>4.000000</td>\n",
              "      <td>55000.000000</td>\n",
              "    </tr>\n",
              "    <tr>\n",
              "      <th>50%</th>\n",
              "      <td>36.000000</td>\n",
              "      <td>9.000000</td>\n",
              "      <td>95000.000000</td>\n",
              "    </tr>\n",
              "    <tr>\n",
              "      <th>75%</th>\n",
              "      <td>44.000000</td>\n",
              "      <td>15.000000</td>\n",
              "      <td>140000.000000</td>\n",
              "    </tr>\n",
              "    <tr>\n",
              "      <th>max</th>\n",
              "      <td>53.000000</td>\n",
              "      <td>25.000000</td>\n",
              "      <td>250000.000000</td>\n",
              "    </tr>\n",
              "  </tbody>\n",
              "</table>\n",
              "</div>"
            ],
            "text/plain": [
              "              Age  Years of Experience         Salary\n",
              "count  373.000000           373.000000     373.000000\n",
              "mean    37.431635            10.030831  100577.345845\n",
              "std      7.069073             6.557007   48240.013482\n",
              "min     23.000000             0.000000     350.000000\n",
              "25%     31.000000             4.000000   55000.000000\n",
              "50%     36.000000             9.000000   95000.000000\n",
              "75%     44.000000            15.000000  140000.000000\n",
              "max     53.000000            25.000000  250000.000000"
            ]
          },
          "execution_count": 10,
          "metadata": {},
          "output_type": "execute_result"
        }
      ],
      "source": [
        "insured.describe()"
      ]
    },
    {
      "cell_type": "code",
      "execution_count": 21,
      "metadata": {},
      "outputs": [
        {
          "ename": "AttributeError",
          "evalue": "'tuple' object has no attribute 'dtype'",
          "output_type": "error",
          "traceback": [
            "\u001b[1;31m---------------------------------------------------------------------------\u001b[0m",
            "\u001b[1;31mAttributeError\u001b[0m                            Traceback (most recent call last)",
            "Cell \u001b[1;32mIn[21], line 1\u001b[0m\n\u001b[1;32m----> 1\u001b[0m \u001b[43minsured\u001b[49m\u001b[38;5;241;43m.\u001b[39;49m\u001b[43mshape\u001b[49m\u001b[38;5;241;43m.\u001b[39;49m\u001b[43mdtype\u001b[49m\n",
            "\u001b[1;31mAttributeError\u001b[0m: 'tuple' object has no attribute 'dtype'"
          ]
        }
      ],
      "source": [
        "insured.shape.dtype"
      ]
    },
    {
      "cell_type": "code",
      "execution_count": null,
      "metadata": {
        "colab": {
          "base_uri": "https://localhost:8080/"
        },
        "id": "kMHuBu8wz0tR",
        "outputId": "e5da895a-1b34-4851-c6c6-8e801f9ded2e"
      },
      "outputs": [
        {
          "name": "stdout",
          "output_type": "stream",
          "text": [
            "Rows     :  375\n",
            "Columns  :  6\n"
          ]
        }
      ],
      "source": [
        "insured.shape\n",
        "#get the size of dataframe\n",
        "print (\"Rows     : \" , insured.shape[0])\n",
        "print (\"Columns  : \" , insured.shape[1])\n"
      ]
    },
    {
      "cell_type": "code",
      "execution_count": 16,
      "metadata": {},
      "outputs": [
        {
          "data": {
            "text/plain": [
              "array([2, 2, 2, 2, 2, 2], dtype=int64)"
            ]
          },
          "execution_count": 16,
          "metadata": {},
          "output_type": "execute_result"
        }
      ],
      "source": [
        "insured.isnull().sum().values"
      ]
    },
    {
      "cell_type": "code",
      "execution_count": 12,
      "metadata": {
        "colab": {
          "base_uri": "https://localhost:8080/"
        },
        "id": "dyQyULPw1PdT",
        "outputId": "01bb71c3-6b99-4ec7-ef64-34826a36d593"
      },
      "outputs": [
        {
          "data": {
            "text/plain": [
              "12"
            ]
          },
          "execution_count": 12,
          "metadata": {},
          "output_type": "execute_result"
        }
      ],
      "source": [
        "insured.isnull().sum().values.sum()"
      ]
    },
    {
      "cell_type": "code",
      "execution_count": 26,
      "metadata": {
        "colab": {
          "base_uri": "https://localhost:8080/",
          "height": 53
        },
        "id": "HexbMeXWKgQA",
        "outputId": "3b8f0120-f608-476a-f692-3ba0173fc4c3"
      },
      "outputs": [
        {
          "data": {
            "text/html": [
              "<div>\n",
              "<style scoped>\n",
              "    .dataframe tbody tr th:only-of-type {\n",
              "        vertical-align: middle;\n",
              "    }\n",
              "\n",
              "    .dataframe tbody tr th {\n",
              "        vertical-align: top;\n",
              "    }\n",
              "\n",
              "    .dataframe thead th {\n",
              "        text-align: right;\n",
              "    }\n",
              "</style>\n",
              "<table border=\"1\" class=\"dataframe\">\n",
              "  <thead>\n",
              "    <tr style=\"text-align: right;\">\n",
              "      <th></th>\n",
              "      <th>Age</th>\n",
              "      <th>Gender</th>\n",
              "      <th>Education Level</th>\n",
              "      <th>Job Title</th>\n",
              "      <th>Years of Experience</th>\n",
              "      <th>Salary</th>\n",
              "    </tr>\n",
              "  </thead>\n",
              "  <tbody>\n",
              "    <tr>\n",
              "      <th>0</th>\n",
              "      <td>32.0</td>\n",
              "      <td>Male</td>\n",
              "      <td>Bachelor's</td>\n",
              "      <td>Software Engineer</td>\n",
              "      <td>5.0</td>\n",
              "      <td>90000.0</td>\n",
              "    </tr>\n",
              "    <tr>\n",
              "      <th>2</th>\n",
              "      <td>45.0</td>\n",
              "      <td>Male</td>\n",
              "      <td>PhD</td>\n",
              "      <td>Senior Manager</td>\n",
              "      <td>15.0</td>\n",
              "      <td>150000.0</td>\n",
              "    </tr>\n",
              "    <tr>\n",
              "      <th>4</th>\n",
              "      <td>52.0</td>\n",
              "      <td>Male</td>\n",
              "      <td>Master's</td>\n",
              "      <td>Director</td>\n",
              "      <td>20.0</td>\n",
              "      <td>200000.0</td>\n",
              "    </tr>\n",
              "    <tr>\n",
              "      <th>5</th>\n",
              "      <td>29.0</td>\n",
              "      <td>Male</td>\n",
              "      <td>Bachelor's</td>\n",
              "      <td>Marketing Analyst</td>\n",
              "      <td>2.0</td>\n",
              "      <td>55000.0</td>\n",
              "    </tr>\n",
              "    <tr>\n",
              "      <th>7</th>\n",
              "      <td>31.0</td>\n",
              "      <td>Male</td>\n",
              "      <td>Bachelor's</td>\n",
              "      <td>Sales Manager</td>\n",
              "      <td>4.0</td>\n",
              "      <td>80000.0</td>\n",
              "    </tr>\n",
              "    <tr>\n",
              "      <th>...</th>\n",
              "      <td>...</td>\n",
              "      <td>...</td>\n",
              "      <td>...</td>\n",
              "      <td>...</td>\n",
              "      <td>...</td>\n",
              "      <td>...</td>\n",
              "    </tr>\n",
              "    <tr>\n",
              "      <th>365</th>\n",
              "      <td>43.0</td>\n",
              "      <td>Male</td>\n",
              "      <td>Master's</td>\n",
              "      <td>Director of Marketing</td>\n",
              "      <td>18.0</td>\n",
              "      <td>170000.0</td>\n",
              "    </tr>\n",
              "    <tr>\n",
              "      <th>367</th>\n",
              "      <td>41.0</td>\n",
              "      <td>Male</td>\n",
              "      <td>Bachelor's</td>\n",
              "      <td>Senior Product Manager</td>\n",
              "      <td>14.0</td>\n",
              "      <td>150000.0</td>\n",
              "    </tr>\n",
              "    <tr>\n",
              "      <th>369</th>\n",
              "      <td>33.0</td>\n",
              "      <td>Male</td>\n",
              "      <td>Bachelor's</td>\n",
              "      <td>Junior Business Analyst</td>\n",
              "      <td>4.0</td>\n",
              "      <td>60000.0</td>\n",
              "    </tr>\n",
              "    <tr>\n",
              "      <th>371</th>\n",
              "      <td>43.0</td>\n",
              "      <td>Male</td>\n",
              "      <td>Master's</td>\n",
              "      <td>Director of Operations</td>\n",
              "      <td>19.0</td>\n",
              "      <td>170000.0</td>\n",
              "    </tr>\n",
              "    <tr>\n",
              "      <th>373</th>\n",
              "      <td>34.0</td>\n",
              "      <td>Male</td>\n",
              "      <td>Bachelor's</td>\n",
              "      <td>Senior Operations Coordinator</td>\n",
              "      <td>7.0</td>\n",
              "      <td>90000.0</td>\n",
              "    </tr>\n",
              "  </tbody>\n",
              "</table>\n",
              "<p>194 rows × 6 columns</p>\n",
              "</div>"
            ],
            "text/plain": [
              "      Age Gender Education Level                      Job Title  \\\n",
              "0    32.0   Male      Bachelor's              Software Engineer   \n",
              "2    45.0   Male             PhD                 Senior Manager   \n",
              "4    52.0   Male        Master's                       Director   \n",
              "5    29.0   Male      Bachelor's              Marketing Analyst   \n",
              "7    31.0   Male      Bachelor's                  Sales Manager   \n",
              "..    ...    ...             ...                            ...   \n",
              "365  43.0   Male        Master's          Director of Marketing   \n",
              "367  41.0   Male      Bachelor's         Senior Product Manager   \n",
              "369  33.0   Male      Bachelor's        Junior Business Analyst   \n",
              "371  43.0   Male        Master's         Director of Operations   \n",
              "373  34.0   Male      Bachelor's  Senior Operations Coordinator   \n",
              "\n",
              "     Years of Experience    Salary  \n",
              "0                    5.0   90000.0  \n",
              "2                   15.0  150000.0  \n",
              "4                   20.0  200000.0  \n",
              "5                    2.0   55000.0  \n",
              "7                    4.0   80000.0  \n",
              "..                   ...       ...  \n",
              "365                 18.0  170000.0  \n",
              "367                 14.0  150000.0  \n",
              "369                  4.0   60000.0  \n",
              "371                 19.0  170000.0  \n",
              "373                  7.0   90000.0  \n",
              "\n",
              "[194 rows x 6 columns]"
            ]
          },
          "execution_count": 26,
          "metadata": {},
          "output_type": "execute_result"
        }
      ],
      "source": [
        "insured[insured['Gender'] == 'Male']"
      ]
    },
    {
      "cell_type": "code",
      "execution_count": 22,
      "metadata": {
        "id": "SUi0Vtq1HWef"
      },
      "outputs": [],
      "source": [
        "insured = insured.dropna()"
      ]
    },
    {
      "cell_type": "code",
      "execution_count": 27,
      "metadata": {
        "colab": {
          "base_uri": "https://localhost:8080/"
        },
        "id": "C8eg57Mw3lgt",
        "outputId": "c6622051-755b-4b56-df26-3ec8ba265b1e"
      },
      "outputs": [
        {
          "name": "stdout",
          "output_type": "stream",
          "text": [
            "\n",
            "Values : \n",
            " [[32.0 'Male' \"Bachelor's\" 'Software Engineer' 5.0 90000.0]\n",
            " [28.0 'Female' \"Master's\" 'Data Analyst' 3.0 65000.0]\n",
            " [45.0 'Male' 'PhD' 'Senior Manager' 15.0 150000.0]\n",
            " ...\n",
            " [29.0 'Female' \"Bachelor's\" 'Junior Project Manager' 2.0 40000.0]\n",
            " [34.0 'Male' \"Bachelor's\" 'Senior Operations Coordinator' 7.0 90000.0]\n",
            " [44.0 'Female' 'PhD' 'Senior Business Analyst' 15.0 150000.0]]\n",
            "\n",
            "Features : \n",
            " ['Age', 'Gender', 'Education Level', 'Job Title', 'Years of Experience', 'Salary']\n"
          ]
        }
      ],
      "source": [
        "print (\"\\nValues : \\n\", insured.values)\n",
        "print (\"\\nFeatures : \\n\", list(insured.columns))\n",
        "# print (\"\\nFeatures : \\n\", list(insured.columns.to_list()))\n",
        "\n",
        "# print (\"\\nMissing values :  \", insured.isnull().sum().values.sum())\n",
        "\n",
        "# print (\"\\nUnique values :  \\n\", insured.nunique())\n"
      ]
    },
    {
      "cell_type": "code",
      "execution_count": 24,
      "metadata": {
        "colab": {
          "base_uri": "https://localhost:8080/"
        },
        "id": "xkPbWGby3lgt",
        "outputId": "a02860e5-b3eb-49fe-8af5-df664fc65d05"
      },
      "outputs": [
        {
          "name": "stdout",
          "output_type": "stream",
          "text": [
            "<class 'pandas.core.frame.DataFrame'>\n",
            "Index: 373 entries, 0 to 374\n",
            "Data columns (total 6 columns):\n",
            " #   Column               Non-Null Count  Dtype  \n",
            "---  ------               --------------  -----  \n",
            " 0   Age                  373 non-null    float64\n",
            " 1   Gender               373 non-null    object \n",
            " 2   Education Level      373 non-null    object \n",
            " 3   Job Title            373 non-null    object \n",
            " 4   Years of Experience  373 non-null    float64\n",
            " 5   Salary               373 non-null    float64\n",
            "dtypes: float64(3), object(3)\n",
            "memory usage: 20.4+ KB\n"
          ]
        }
      ],
      "source": [
        "insured.info()"
      ]
    },
    {
      "cell_type": "code",
      "execution_count": 28,
      "metadata": {
        "id": "OXj9O-MA3lgt"
      },
      "outputs": [],
      "source": [
        "#changing object dtype to category  to save memory\n",
        "insured['Gender']=insured['Gender'].astype(\"category\")\n",
        "insured['Education Level']=insured['Education Level'].astype(\"category\")\n",
        "insured['Job Title']=insured['Job Title'].astype(\"category\")\n"
      ]
    },
    {
      "cell_type": "markdown",
      "metadata": {
        "id": "79ifGdNpwzNT"
      },
      "source": []
    },
    {
      "cell_type": "code",
      "execution_count": 29,
      "metadata": {
        "colab": {
          "base_uri": "https://localhost:8080/"
        },
        "id": "gxZfnHTW3lgu",
        "outputId": "23bcb413-78ce-4026-ad03-0ec3e82cec9e"
      },
      "outputs": [
        {
          "name": "stdout",
          "output_type": "stream",
          "text": [
            "<class 'pandas.core.frame.DataFrame'>\n",
            "Index: 373 entries, 0 to 374\n",
            "Data columns (total 6 columns):\n",
            " #   Column               Non-Null Count  Dtype   \n",
            "---  ------               --------------  -----   \n",
            " 0   Age                  373 non-null    float64 \n",
            " 1   Gender               373 non-null    category\n",
            " 2   Education Level      373 non-null    category\n",
            " 3   Job Title            373 non-null    category\n",
            " 4   Years of Experience  373 non-null    float64 \n",
            " 5   Salary               373 non-null    float64 \n",
            "dtypes: category(3), float64(3)\n",
            "memory usage: 18.8 KB\n"
          ]
        }
      ],
      "source": [
        "insured.info()"
      ]
    },
    {
      "cell_type": "code",
      "execution_count": 30,
      "metadata": {
        "colab": {
          "base_uri": "https://localhost:8080/",
          "height": 300
        },
        "id": "NjJe79i83lgu",
        "outputId": "05ea3771-553d-4a37-d070-e717040f5617"
      },
      "outputs": [
        {
          "data": {
            "text/html": [
              "<div>\n",
              "<style scoped>\n",
              "    .dataframe tbody tr th:only-of-type {\n",
              "        vertical-align: middle;\n",
              "    }\n",
              "\n",
              "    .dataframe tbody tr th {\n",
              "        vertical-align: top;\n",
              "    }\n",
              "\n",
              "    .dataframe thead th {\n",
              "        text-align: right;\n",
              "    }\n",
              "</style>\n",
              "<table border=\"1\" class=\"dataframe\">\n",
              "  <thead>\n",
              "    <tr style=\"text-align: right;\">\n",
              "      <th></th>\n",
              "      <th>Age</th>\n",
              "      <th>Years of Experience</th>\n",
              "      <th>Salary</th>\n",
              "    </tr>\n",
              "  </thead>\n",
              "  <tbody>\n",
              "    <tr>\n",
              "      <th>count</th>\n",
              "      <td>373.000000</td>\n",
              "      <td>373.000000</td>\n",
              "      <td>373.000000</td>\n",
              "    </tr>\n",
              "    <tr>\n",
              "      <th>mean</th>\n",
              "      <td>37.431635</td>\n",
              "      <td>10.030831</td>\n",
              "      <td>100577.345845</td>\n",
              "    </tr>\n",
              "    <tr>\n",
              "      <th>std</th>\n",
              "      <td>7.069073</td>\n",
              "      <td>6.557007</td>\n",
              "      <td>48240.013482</td>\n",
              "    </tr>\n",
              "    <tr>\n",
              "      <th>min</th>\n",
              "      <td>23.000000</td>\n",
              "      <td>0.000000</td>\n",
              "      <td>350.000000</td>\n",
              "    </tr>\n",
              "    <tr>\n",
              "      <th>25%</th>\n",
              "      <td>31.000000</td>\n",
              "      <td>4.000000</td>\n",
              "      <td>55000.000000</td>\n",
              "    </tr>\n",
              "    <tr>\n",
              "      <th>50%</th>\n",
              "      <td>36.000000</td>\n",
              "      <td>9.000000</td>\n",
              "      <td>95000.000000</td>\n",
              "    </tr>\n",
              "    <tr>\n",
              "      <th>75%</th>\n",
              "      <td>44.000000</td>\n",
              "      <td>15.000000</td>\n",
              "      <td>140000.000000</td>\n",
              "    </tr>\n",
              "    <tr>\n",
              "      <th>max</th>\n",
              "      <td>53.000000</td>\n",
              "      <td>25.000000</td>\n",
              "      <td>250000.000000</td>\n",
              "    </tr>\n",
              "  </tbody>\n",
              "</table>\n",
              "</div>"
            ],
            "text/plain": [
              "              Age  Years of Experience         Salary\n",
              "count  373.000000           373.000000     373.000000\n",
              "mean    37.431635            10.030831  100577.345845\n",
              "std      7.069073             6.557007   48240.013482\n",
              "min     23.000000             0.000000     350.000000\n",
              "25%     31.000000             4.000000   55000.000000\n",
              "50%     36.000000             9.000000   95000.000000\n",
              "75%     44.000000            15.000000  140000.000000\n",
              "max     53.000000            25.000000  250000.000000"
            ]
          },
          "execution_count": 30,
          "metadata": {},
          "output_type": "execute_result"
        }
      ],
      "source": [
        "insured.describe()"
      ]
    },
    {
      "cell_type": "code",
      "execution_count": 36,
      "metadata": {},
      "outputs": [
        {
          "data": {
            "text/plain": [
              "Index(['Gender', 'Education Level', 'Job Title'], dtype='object')"
            ]
          },
          "execution_count": 36,
          "metadata": {},
          "output_type": "execute_result"
        }
      ],
      "source": [
        "(insured.select_dtypes(['category']).columns)"
      ]
    },
    {
      "cell_type": "code",
      "execution_count": 35,
      "metadata": {},
      "outputs": [
        {
          "data": {
            "text/plain": [
              "Gender\n",
              "Male      194\n",
              "Female    179\n",
              "Name: count, dtype: int64"
            ]
          },
          "execution_count": 35,
          "metadata": {},
          "output_type": "execute_result"
        }
      ],
      "source": [
        "insured['Gender'].value_counts()"
      ]
    },
    {
      "cell_type": "code",
      "execution_count": null,
      "metadata": {
        "colab": {
          "base_uri": "https://localhost:8080/"
        },
        "id": "nGK_-jC23lgu",
        "outputId": "4d25f2bf-ae80-4108-f468-c20540742a97"
      },
      "outputs": [
        {
          "name": "stdout",
          "output_type": "stream",
          "text": [
            "Male      194\n",
            "Female    179\n",
            "Name: Gender, dtype: int64\n",
            "Bachelor's    224\n",
            "Master's       98\n",
            "PhD            51\n",
            "Name: Education Level, dtype: int64\n",
            "Director of Marketing                 12\n",
            "Director of Operations                11\n",
            "Senior Business Analyst               10\n",
            "Senior Marketing Analyst               9\n",
            "Senior Marketing Manager               9\n",
            "                                      ..\n",
            "Junior Designer                        1\n",
            "Junior Data Scientist                  1\n",
            "Junior Data Analyst                    1\n",
            "Junior Customer Support Specialist     1\n",
            "Web Developer                          1\n",
            "Name: Job Title, Length: 174, dtype: int64\n"
          ]
        }
      ],
      "source": [
        "# get counts of unique observations for each category variable\n",
        "list_col=  insured.select_dtypes(['category']).columns\n",
        "for i in range(len(list_col)):\n",
        "    print(insured[list_col[i]].value_counts())"
      ]
    },
    {
      "cell_type": "markdown",
      "metadata": {
        "id": "hGny7xqz3lgv"
      },
      "source": [
        "# Exploratory Data Analysis"
      ]
    },
    {
      "cell_type": "markdown",
      "metadata": {
        "id": "xXFESKan3lgv"
      },
      "source": [
        "## Univariate Analysis"
      ]
    },
    {
      "cell_type": "code",
      "execution_count": 37,
      "metadata": {
        "id": "6hgoyrqKU9Qc"
      },
      "outputs": [],
      "source": [
        "# Function to create barplots that indicate percentage for each category.\n",
        "def bar_perc(plot, feature):\n",
        "    total = len(feature) # length of the column\n",
        "    for p in plot.patches:\n",
        "        percentage = '{:.1f}%'.format(100 * p.get_height()/total) # percentage of each class of the category\n",
        "        x = p.get_x() + p.get_width() / 2 - 0.05 # width of the plot\n",
        "        y = p.get_y() + p.get_height()           # height of the plot\n",
        "        plot.annotate(percentage, (x, y), size = 12) # annotate the percentage"
      ]
    },
    {
      "cell_type": "code",
      "execution_count": 38,
      "metadata": {
        "colab": {
          "base_uri": "https://localhost:8080/",
          "height": 434
        },
        "id": "i6fvXpAufvMc",
        "outputId": "54166174-3d19-437f-f130-8c1b022535e0"
      },
      "outputs": [
        {
          "data": {
            "image/png": "[encoded data removed]",
            "text/plain": [
              "<Figure size 640x480 with 1 Axes>"
            ]
          },
          "metadata": {},
          "output_type": "display_data"
        }
      ],
      "source": [
        "no_of_male = len(insured[insured['Gender'] == 'Male'])\n",
        "no_of_female = len(insured[insured['Gender'] == 'Female'])\n",
        "\n",
        "plt.bar(['Male','Female'],[no_of_male,no_of_female],color = ['r','g'],label = ['Male','Female'])\n",
        "plt.legend()\n",
        "plt.show()"
      ]
    },
    {
      "cell_type": "code",
      "execution_count": null,
      "metadata": {
        "colab": {
          "base_uri": "https://localhost:8080/",
          "height": 457
        },
        "id": "TEvuOixaORAn",
        "outputId": "3fda996d-346a-412d-b8e2-5d86dd9a50ba"
      },
      "outputs": [
        {
          "data": {
            "image/png": "[encoded data removed]",
            "text/plain": [
              "<Figure size 640x480 with 1 Axes>"
            ]
          },
          "metadata": {},
          "output_type": "display_data"
        }
      ],
      "source": [
        "#Alternet\n",
        "#for gender\n",
        "no_of_bach = len(insured[insured['Education Level'] == \"Bachelor's\"])\n",
        "no_of_mast = len(insured[insured['Education Level'] == \"Master's\"])\n",
        "no_of_phd = len(insured[insured['Education Level'] == 'PhD'])\n",
        "\n",
        "plt.bar([\"Bachelor's\",\"Master's\",\"PhD\"],[no_of_bach,no_of_mast,no_of_phd], label='Education level')\n",
        "plt.title('No of people with Education level')\n",
        "plt.legend()\n",
        "plt.show()"
      ]
    },
    {
      "cell_type": "code",
      "execution_count": null,
      "metadata": {
        "id": "mAhheE9Kgetg"
      },
      "outputs": [],
      "source": [
        "# Analyzing categorical data"
      ]
    },
    {
      "cell_type": "code",
      "execution_count": null,
      "metadata": {
        "colab": {
          "base_uri": "https://localhost:8080/"
        },
        "id": "fAqIwvVJi2It",
        "outputId": "89663efc-a82c-4006-d046-3c5d9044c158"
      },
      "outputs": [
        {
          "data": {
            "text/plain": [
              "{'Gender': [['Male', 'Female'], [194, 179]],\n",
              " 'Education Level': [[\"Bachelor's\", \"Master's\", 'PhD'], [224, 98, 51]],\n",
              " 'Job Title': [['Director of Marketing',\n",
              "   'Director of Operations',\n",
              "   'Senior Business Analyst',\n",
              "   'Senior Marketing Analyst',\n",
              "   'Senior Marketing Manager',\n",
              "   'Junior Business Analyst',\n",
              "   'Junior Financial Analyst',\n",
              "   'Senior Project Manager',\n",
              "   'Junior Business Development Associate',\n",
              "   'Senior Financial Analyst',\n",
              "   'Senior Data Scientist',\n",
              "   'Senior Product Manager',\n",
              "   'Senior Software Engineer',\n",
              "   'Junior Marketing Coordinator',\n",
              "   'Senior Financial Manager',\n",
              "   'Senior Product Designer',\n",
              "   'Senior Operations Manager',\n",
              "   'Junior Marketing Specialist',\n",
              "   'Junior Operations Analyst',\n",
              "   'Junior Project Manager',\n",
              "   'Senior Project Coordinator',\n",
              "   'Senior Data Engineer',\n",
              "   'Senior Marketing Specialist',\n",
              "   'Senior Operations Coordinator',\n",
              "   'Senior Business Development Manager',\n",
              "   'Junior Product Manager',\n",
              "   'Junior Sales Representative',\n",
              "   'Junior Marketing Analyst',\n",
              "   'Junior Marketing Manager',\n",
              "   'Junior Accountant',\n",
              "   'Senior Marketing Coordinator',\n",
              "   'Junior Operations Manager',\n",
              "   'Marketing Coordinator',\n",
              "   'Senior HR Manager',\n",
              "   'Senior Software Developer',\n",
              "   'Sales Manager',\n",
              "   'Senior UX Designer',\n",
              "   'Senior Data Analyst',\n",
              "   'Senior Scientist',\n",
              "   'Senior Financial Advisor',\n",
              "   'Senior Accountant',\n",
              "   'Sales Associate',\n",
              "   'Business Analyst',\n",
              "   'Recruiter',\n",
              "   'Senior Engineer',\n",
              "   'Customer Service Manager',\n",
              "   'Project Manager',\n",
              "   'Senior Manager',\n",
              "   'Junior HR Generalist',\n",
              "   'Junior HR Coordinator',\n",
              "   'Administrative Assistant',\n",
              "   'Product Manager',\n",
              "   'Senior Human Resources Manager',\n",
              "   'Data Analyst',\n",
              "   'Event Coordinator',\n",
              "   'Senior Operations Analyst',\n",
              "   'Senior Sales Representative',\n",
              "   'Junior Account Manager',\n",
              "   'Senior Sales Manager',\n",
              "   'Junior Software Developer',\n",
              "   'HR Generalist',\n",
              "   'HR Manager',\n",
              "   'Director of Human Resources',\n",
              "   'Senior IT Consultant',\n",
              "   'Director of Finance',\n",
              "   'Marketing Analyst',\n",
              "   'Director of Engineering',\n",
              "   'Junior Business Operations Analyst',\n",
              "   'Operations Manager',\n",
              "   'Senior Consultant',\n",
              "   'Senior Human Resources Coordinator',\n",
              "   'Senior HR Specialist',\n",
              "   'Senior Account Manager',\n",
              "   'Senior HR Generalist',\n",
              "   'Senior Human Resources Specialist',\n",
              "   'Senior Graphic Designer',\n",
              "   'Account Manager',\n",
              "   'Senior IT Project Manager',\n",
              "   'Software Manager',\n",
              "   'VP of Operations',\n",
              "   'VP of Finance',\n",
              "   'UX Researcher',\n",
              "   'UX Designer',\n",
              "   'Training Specialist',\n",
              "   'Technical Writer',\n",
              "   'Technical Support Specialist',\n",
              "   'Technical Recruiter',\n",
              "   'Supply Chain Manager',\n",
              "   'Supply Chain Analyst',\n",
              "   'Strategy Consultant',\n",
              "   'Software Project Manager',\n",
              "   'Software Engineer',\n",
              "   'Senior IT Support Specialist',\n",
              "   'Software Developer',\n",
              "   'Social Media Specialist',\n",
              "   'Social Media Manager',\n",
              "   'Senior Training Specialist',\n",
              "   'Senior Software Architect',\n",
              "   'Senior Researcher',\n",
              "   'Senior Research Scientist',\n",
              "   'Senior Quality Assurance Analyst',\n",
              "   'Senior Product Marketing Manager',\n",
              "   'Senior Product Development Manager',\n",
              "   'Sales Representative',\n",
              "   'Senior Marketing Director',\n",
              "   'Senior Account Executive',\n",
              "   'Operations Analyst',\n",
              "   'Sales Operations Manager',\n",
              "   'Digital Marketing Manager',\n",
              "   'IT Manager',\n",
              "   'Human Resources Director',\n",
              "   'Help Desk Analyst',\n",
              "   'Graphic Designer',\n",
              "   'Financial Manager',\n",
              "   'Financial Analyst',\n",
              "   'Financial Advisor',\n",
              "   'Director of Sales and Marketing',\n",
              "   'Director of Sales',\n",
              "   'Director of Product Management',\n",
              "   'Director of Human Capital',\n",
              "   'Director of HR',\n",
              "   'Director of Business Development',\n",
              "   'Director',\n",
              "   'Digital Content Producer',\n",
              "   'IT Support Specialist',\n",
              "   'Data Scientist',\n",
              "   'Data Entry Clerk',\n",
              "   'Customer Success Rep',\n",
              "   'Customer Success Manager',\n",
              "   'Customer Service Representative',\n",
              "   'Customer Service Rep',\n",
              "   'Creative Director',\n",
              "   'Copywriter',\n",
              "   'Content Marketing Manager',\n",
              "   'Chief Technology Officer',\n",
              "   'Chief Data Officer',\n",
              "   'CEO',\n",
              "   'Business Intelligence Analyst',\n",
              "   'Business Development Manager',\n",
              "   'IT Support',\n",
              "   'Junior Advertising Coordinator',\n",
              "   'Sales Executive',\n",
              "   'Marketing Manager',\n",
              "   'Sales Director',\n",
              "   'Research Scientist',\n",
              "   'Research Director',\n",
              "   'Public Relations Manager',\n",
              "   'Project Engineer',\n",
              "   'Product Marketing Manager',\n",
              "   'Product Designer',\n",
              "   'Principal Scientist',\n",
              "   'Principal Engineer',\n",
              "   'Operations Director',\n",
              "   'Accountant',\n",
              "   'Office Manager',\n",
              "   'Network Engineer',\n",
              "   'Marketing Specialist',\n",
              "   'Junior Web Developer',\n",
              "   'Junior Copywriter',\n",
              "   'Junior Web Designer',\n",
              "   'Junior UX Designer',\n",
              "   'Junior Software Engineer',\n",
              "   'Junior Social Media Specialist',\n",
              "   'Junior Social Media Manager',\n",
              "   'Junior Research Scientist',\n",
              "   'Junior Recruiter',\n",
              "   'Junior Operations Coordinator',\n",
              "   'Junior Financial Advisor',\n",
              "   'Junior Developer',\n",
              "   'Junior Designer',\n",
              "   'Junior Data Scientist',\n",
              "   'Junior Data Analyst',\n",
              "   'Junior Customer Support Specialist',\n",
              "   'Web Developer'],\n",
              "  [12,\n",
              "   11,\n",
              "   10,\n",
              "   9,\n",
              "   9,\n",
              "   8,\n",
              "   7,\n",
              "   7,\n",
              "   7,\n",
              "   7,\n",
              "   7,\n",
              "   6,\n",
              "   6,\n",
              "   6,\n",
              "   5,\n",
              "   5,\n",
              "   5,\n",
              "   5,\n",
              "   5,\n",
              "   5,\n",
              "   5,\n",
              "   4,\n",
              "   4,\n",
              "   4,\n",
              "   4,\n",
              "   4,\n",
              "   4,\n",
              "   3,\n",
              "   3,\n",
              "   3,\n",
              "   3,\n",
              "   3,\n",
              "   3,\n",
              "   3,\n",
              "   3,\n",
              "   3,\n",
              "   3,\n",
              "   3,\n",
              "   3,\n",
              "   3,\n",
              "   2,\n",
              "   2,\n",
              "   2,\n",
              "   2,\n",
              "   2,\n",
              "   2,\n",
              "   2,\n",
              "   2,\n",
              "   2,\n",
              "   2,\n",
              "   2,\n",
              "   2,\n",
              "   2,\n",
              "   2,\n",
              "   2,\n",
              "   2,\n",
              "   2,\n",
              "   2,\n",
              "   2,\n",
              "   2,\n",
              "   2,\n",
              "   2,\n",
              "   2,\n",
              "   2,\n",
              "   2,\n",
              "   2,\n",
              "   2,\n",
              "   2,\n",
              "   2,\n",
              "   1,\n",
              "   1,\n",
              "   1,\n",
              "   1,\n",
              "   1,\n",
              "   1,\n",
              "   1,\n",
              "   1,\n",
              "   1,\n",
              "   1,\n",
              "   1,\n",
              "   1,\n",
              "   1,\n",
              "   1,\n",
              "   1,\n",
              "   1,\n",
              "   1,\n",
              "   1,\n",
              "   1,\n",
              "   1,\n",
              "   1,\n",
              "   1,\n",
              "   1,\n",
              "   1,\n",
              "   1,\n",
              "   1,\n",
              "   1,\n",
              "   1,\n",
              "   1,\n",
              "   1,\n",
              "   1,\n",
              "   1,\n",
              "   1,\n",
              "   1,\n",
              "   1,\n",
              "   1,\n",
              "   1,\n",
              "   1,\n",
              "   1,\n",
              "   1,\n",
              "   1,\n",
              "   1,\n",
              "   1,\n",
              "   1,\n",
              "   1,\n",
              "   1,\n",
              "   1,\n",
              "   1,\n",
              "   1,\n",
              "   1,\n",
              "   1,\n",
              "   1,\n",
              "   1,\n",
              "   1,\n",
              "   1,\n",
              "   1,\n",
              "   1,\n",
              "   1,\n",
              "   1,\n",
              "   1,\n",
              "   1,\n",
              "   1,\n",
              "   1,\n",
              "   1,\n",
              "   1,\n",
              "   1,\n",
              "   1,\n",
              "   1,\n",
              "   1,\n",
              "   1,\n",
              "   1,\n",
              "   1,\n",
              "   1,\n",
              "   1,\n",
              "   1,\n",
              "   1,\n",
              "   1,\n",
              "   1,\n",
              "   1,\n",
              "   1,\n",
              "   1,\n",
              "   1,\n",
              "   1,\n",
              "   1,\n",
              "   1,\n",
              "   1,\n",
              "   1,\n",
              "   1,\n",
              "   1,\n",
              "   1,\n",
              "   1,\n",
              "   1,\n",
              "   1,\n",
              "   1,\n",
              "   1,\n",
              "   1,\n",
              "   1,\n",
              "   1,\n",
              "   1,\n",
              "   1,\n",
              "   1,\n",
              "   1,\n",
              "   1,\n",
              "   1,\n",
              "   1]]}"
            ]
          },
          "execution_count": 65,
          "metadata": {},
          "output_type": "execute_result"
        }
      ],
      "source": [
        "data = {}\n",
        "list_col=  insured.select_dtypes(['category']).columns\n",
        "for i in range(len(list_col)):\n",
        "  values = list(insured[list_col[i]].value_counts())\n",
        "  subcategory = list(insured[list_col[i]].value_counts().index)\n",
        "  # data['x'] = values\n",
        "  data[list_col[i]] = [subcategory,values]\n",
        "\n",
        "data"
      ]
    },
    {
      "cell_type": "code",
      "execution_count": null,
      "metadata": {
        "id": "QgW_uFlki3Qm"
      },
      "outputs": [],
      "source": [
        "# Bar Graph"
      ]
    },
    {
      "cell_type": "code",
      "execution_count": null,
      "metadata": {
        "colab": {
          "base_uri": "https://localhost:8080/",
          "height": 434
        },
        "id": "v0stAbFNjVJk",
        "outputId": "9a73ca1f-0973-4dc9-8885-c1ce0545c74c"
      },
      "outputs": [
        {
          "data": {
            "image/png": "[encoded data removed]",
            "text/plain": [
              "<Figure size 640x480 with 1 Axes>"
            ]
          },
          "metadata": {},
          "output_type": "display_data"
        }
      ],
      "source": [
        "plt.bar(data['Gender'][0],data['Gender'][1],label=['Male','Female'],\n",
        "        color = ['b','r'])\n",
        "plt.legend()\n",
        "plt.show()"
      ]
    },
    {
      "cell_type": "code",
      "execution_count": null,
      "metadata": {
        "id": "MCjbCgqPXr0w"
      },
      "outputs": [],
      "source": [
        "# #Alternate\n",
        "# print(data['region'])\n",
        "# plt.bar(data['region'][0],data['region'][1],\n",
        "#         label=['southeast', 'northwest', 'southwest', 'northeast'],\n",
        "#         color = ['r','b','g','k'])\n",
        "# plt.title('Region')\n",
        "# plt.legend()\n",
        "# plt.show()"
      ]
    },
    {
      "cell_type": "code",
      "execution_count": null,
      "metadata": {
        "colab": {
          "base_uri": "https://localhost:8080/",
          "height": 474
        },
        "id": "fU8KSpZVVEGB",
        "outputId": "0842b7b9-8220-49a0-eda9-b7e0cad1cacb"
      },
      "outputs": [
        {
          "name": "stdout",
          "output_type": "stream",
          "text": [
            "[[\"Bachelor's\", \"Master's\", 'PhD'], [224, 98, 51]]\n"
          ]
        },
        {
          "data": {
            "image/png": "[encoded data removed]",
            "text/plain": [
              "<Figure size 640x480 with 1 Axes>"
            ]
          },
          "metadata": {},
          "output_type": "display_data"
        }
      ],
      "source": [
        "#Alternate\n",
        "print(data['Education Level'])\n",
        "plt.bar(data['Education Level'][0],data['Education Level'][1],\n",
        "        label=data['Education Level'][0],\n",
        "        color = ['g','r','b'])\n",
        "plt.title('Education level')\n",
        "plt.legend()\n",
        "plt.show()"
      ]
    },
    {
      "cell_type": "markdown",
      "metadata": {
        "id": "Y1pTBc0A3lgw"
      },
      "source": [
        "## Bivariate & Multivariate Analysis"
      ]
    },
    {
      "cell_type": "code",
      "execution_count": null,
      "metadata": {
        "colab": {
          "base_uri": "https://localhost:8080/",
          "height": 423
        },
        "id": "WXF6uSLrm7lV",
        "outputId": "f87d2a39-05e0-4f71-c257-346f849facb2"
      },
      "outputs": [
        {
          "data": {
            "text/html": [
              "\n",
              "  <div id=\"df-083370d6-7655-4636-9dbe-a732eda98215\" class=\"colab-df-container\">\n",
              "    <div>\n",
              "<style scoped>\n",
              "    .dataframe tbody tr th:only-of-type {\n",
              "        vertical-align: middle;\n",
              "    }\n",
              "\n",
              "    .dataframe tbody tr th {\n",
              "        vertical-align: top;\n",
              "    }\n",
              "\n",
              "    .dataframe thead th {\n",
              "        text-align: right;\n",
              "    }\n",
              "</style>\n",
              "<table border=\"1\" class=\"dataframe\">\n",
              "  <thead>\n",
              "    <tr style=\"text-align: right;\">\n",
              "      <th></th>\n",
              "      <th>Age</th>\n",
              "      <th>Gender</th>\n",
              "      <th>Education Level</th>\n",
              "      <th>Job Title</th>\n",
              "      <th>Years of Experience</th>\n",
              "      <th>Salary</th>\n",
              "    </tr>\n",
              "  </thead>\n",
              "  <tbody>\n",
              "    <tr>\n",
              "      <th>0</th>\n",
              "      <td>32.0</td>\n",
              "      <td>Male</td>\n",
              "      <td>Bachelor's</td>\n",
              "      <td>Software Engineer</td>\n",
              "      <td>5.0</td>\n",
              "      <td>90000.0</td>\n",
              "    </tr>\n",
              "    <tr>\n",
              "      <th>1</th>\n",
              "      <td>28.0</td>\n",
              "      <td>Female</td>\n",
              "      <td>Master's</td>\n",
              "      <td>Data Analyst</td>\n",
              "      <td>3.0</td>\n",
              "      <td>65000.0</td>\n",
              "    </tr>\n",
              "    <tr>\n",
              "      <th>2</th>\n",
              "      <td>45.0</td>\n",
              "      <td>Male</td>\n",
              "      <td>PhD</td>\n",
              "      <td>Senior Manager</td>\n",
              "      <td>15.0</td>\n",
              "      <td>150000.0</td>\n",
              "    </tr>\n",
              "    <tr>\n",
              "      <th>3</th>\n",
              "      <td>36.0</td>\n",
              "      <td>Female</td>\n",
              "      <td>Bachelor's</td>\n",
              "      <td>Sales Associate</td>\n",
              "      <td>7.0</td>\n",
              "      <td>60000.0</td>\n",
              "    </tr>\n",
              "    <tr>\n",
              "      <th>4</th>\n",
              "      <td>52.0</td>\n",
              "      <td>Male</td>\n",
              "      <td>Master's</td>\n",
              "      <td>Director</td>\n",
              "      <td>20.0</td>\n",
              "      <td>200000.0</td>\n",
              "    </tr>\n",
              "    <tr>\n",
              "      <th>...</th>\n",
              "      <td>...</td>\n",
              "      <td>...</td>\n",
              "      <td>...</td>\n",
              "      <td>...</td>\n",
              "      <td>...</td>\n",
              "      <td>...</td>\n",
              "    </tr>\n",
              "    <tr>\n",
              "      <th>370</th>\n",
              "      <td>35.0</td>\n",
              "      <td>Female</td>\n",
              "      <td>Bachelor's</td>\n",
              "      <td>Senior Marketing Analyst</td>\n",
              "      <td>8.0</td>\n",
              "      <td>85000.0</td>\n",
              "    </tr>\n",
              "    <tr>\n",
              "      <th>371</th>\n",
              "      <td>43.0</td>\n",
              "      <td>Male</td>\n",
              "      <td>Master's</td>\n",
              "      <td>Director of Operations</td>\n",
              "      <td>19.0</td>\n",
              "      <td>170000.0</td>\n",
              "    </tr>\n",
              "    <tr>\n",
              "      <th>372</th>\n",
              "      <td>29.0</td>\n",
              "      <td>Female</td>\n",
              "      <td>Bachelor's</td>\n",
              "      <td>Junior Project Manager</td>\n",
              "      <td>2.0</td>\n",
              "      <td>40000.0</td>\n",
              "    </tr>\n",
              "    <tr>\n",
              "      <th>373</th>\n",
              "      <td>34.0</td>\n",
              "      <td>Male</td>\n",
              "      <td>Bachelor's</td>\n",
              "      <td>Senior Operations Coordinator</td>\n",
              "      <td>7.0</td>\n",
              "      <td>90000.0</td>\n",
              "    </tr>\n",
              "    <tr>\n",
              "      <th>374</th>\n",
              "      <td>44.0</td>\n",
              "      <td>Female</td>\n",
              "      <td>PhD</td>\n",
              "      <td>Senior Business Analyst</td>\n",
              "      <td>15.0</td>\n",
              "      <td>150000.0</td>\n",
              "    </tr>\n",
              "  </tbody>\n",
              "</table>\n",
              "<p>373 rows × 6 columns</p>\n",
              "</div>\n",
              "    <div class=\"colab-df-buttons\">\n",
              "\n",
              "  <div class=\"colab-df-container\">\n",
              "    <button class=\"colab-df-convert\" onclick=\"convertToInteractive('df-083370d6-7655-4636-9dbe-a732eda98215')\"\n",
              "            title=\"Convert this dataframe to an interactive table.\"\n",
              "            style=\"display:none;\">\n",
              "\n",
              "  <svg xmlns=\"http://www.w3.org/2000/svg\" height=\"24px\" viewBox=\"0 -960 960 960\">\n",
              "    <path d=\"M120-120v-720h720v720H120Zm60-500h600v-160H180v160Zm220 220h160v-160H400v160Zm0 220h160v-160H400v160ZM180-400h160v-160H180v160Zm440 0h160v-160H620v160ZM180-180h160v-160H180v160Zm440 0h160v-160H620v160Z\"/>\n",
              "  </svg>\n",
              "    </button>\n",
              "\n",
              "  <style>\n",
              "    .colab-df-container {\n",
              "      display:flex;\n",
              "      gap: 12px;\n",
              "    }\n",
              "\n",
              "    .colab-df-convert {\n",
              "      background-color: #E8F0FE;\n",
              "      border: none;\n",
              "      border-radius: 50%;\n",
              "      cursor: pointer;\n",
              "      display: none;\n",
              "      fill: #1967D2;\n",
              "      height: 32px;\n",
              "      padding: 0 0 0 0;\n",
              "      width: 32px;\n",
              "    }\n",
              "\n",
              "    .colab-df-convert:hover {\n",
              "      background-color: #E2EBFA;\n",
              "      box-shadow: 0px 1px 2px rgba(60, 64, 67, 0.3), 0px 1px 3px 1px rgba(60, 64, 67, 0.15);\n",
              "      fill: #174EA6;\n",
              "    }\n",
              "\n",
              "    .colab-df-buttons div {\n",
              "      margin-bottom: 4px;\n",
              "    }\n",
              "\n",
              "    [theme=dark] .colab-df-convert {\n",
              "      background-color: #3B4455;\n",
              "      fill: #D2E3FC;\n",
              "    }\n",
              "\n",
              "    [theme=dark] .colab-df-convert:hover {\n",
              "      background-color: #434B5C;\n",
              "      box-shadow: 0px 1px 3px 1px rgba(0, 0, 0, 0.15);\n",
              "      filter: drop-shadow(0px 1px 2px rgba(0, 0, 0, 0.3));\n",
              "      fill: #FFFFFF;\n",
              "    }\n",
              "  </style>\n",
              "\n",
              "    <script>\n",
              "      const buttonEl =\n",
              "        document.querySelector('#df-083370d6-7655-4636-9dbe-a732eda98215 button.colab-df-convert');\n",
              "      buttonEl.style.display =\n",
              "        google.colab.kernel.accessAllowed ? 'block' : 'none';\n",
              "\n",
              "      async function convertToInteractive(key) {\n",
              "        const element = document.querySelector('#df-083370d6-7655-4636-9dbe-a732eda98215');\n",
              "        const dataTable =\n",
              "          await google.colab.kernel.invokeFunction('convertToInteractive',\n",
              "                                                    [key], {});\n",
              "        if (!dataTable) return;\n",
              "\n",
              "        const docLinkHtml = 'Like what you see? Visit the ' +\n",
              "          '<a target=\"_blank\" href=https://colab.research.google.com/notebooks/data_table.ipynb>data table notebook</a>'\n",
              "          + ' to learn more about interactive tables.';\n",
              "        element.innerHTML = '';\n",
              "        dataTable['output_type'] = 'display_data';\n",
              "        await google.colab.output.renderOutput(dataTable, element);\n",
              "        const docLink = document.createElement('div');\n",
              "        docLink.innerHTML = docLinkHtml;\n",
              "        element.appendChild(docLink);\n",
              "      }\n",
              "    </script>\n",
              "  </div>\n",
              "\n",
              "\n",
              "<div id=\"df-983be393-c3d4-4e25-a06e-f85d91c00ab9\">\n",
              "  <button class=\"colab-df-quickchart\" onclick=\"quickchart('df-983be393-c3d4-4e25-a06e-f85d91c00ab9')\"\n",
              "            title=\"Suggest charts.\"\n",
              "            style=\"display:none;\">\n",
              "\n",
              "<svg xmlns=\"http://www.w3.org/2000/svg\" height=\"24px\"viewBox=\"0 0 24 24\"\n",
              "     width=\"24px\">\n",
              "    <g>\n",
              "        <path d=\"M19 3H5c-1.1 0-2 .9-2 2v14c0 1.1.9 2 2 2h14c1.1 0 2-.9 2-2V5c0-1.1-.9-2-2-2zM9 17H7v-7h2v7zm4 0h-2V7h2v10zm4 0h-2v-4h2v4z\"/>\n",
              "    </g>\n",
              "</svg>\n",
              "  </button>\n",
              "\n",
              "<style>\n",
              "  .colab-df-quickchart {\n",
              "      --bg-color: #E8F0FE;\n",
              "      --fill-color: #1967D2;\n",
              "      --hover-bg-color: #E2EBFA;\n",
              "      --hover-fill-color: #174EA6;\n",
              "      --disabled-fill-color: #AAA;\n",
              "      --disabled-bg-color: #DDD;\n",
              "  }\n",
              "\n",
              "  [theme=dark] .colab-df-quickchart {\n",
              "      --bg-color: #3B4455;\n",
              "      --fill-color: #D2E3FC;\n",
              "      --hover-bg-color: #434B5C;\n",
              "      --hover-fill-color: #FFFFFF;\n",
              "      --disabled-bg-color: #3B4455;\n",
              "      --disabled-fill-color: #666;\n",
              "  }\n",
              "\n",
              "  .colab-df-quickchart {\n",
              "    background-color: var(--bg-color);\n",
              "    border: none;\n",
              "    border-radius: 50%;\n",
              "    cursor: pointer;\n",
              "    display: none;\n",
              "    fill: var(--fill-color);\n",
              "    height: 32px;\n",
              "    padding: 0;\n",
              "    width: 32px;\n",
              "  }\n",
              "\n",
              "  .colab-df-quickchart:hover {\n",
              "    background-color: var(--hover-bg-color);\n",
              "    box-shadow: 0 1px 2px rgba(60, 64, 67, 0.3), 0 1px 3px 1px rgba(60, 64, 67, 0.15);\n",
              "    fill: var(--button-hover-fill-color);\n",
              "  }\n",
              "\n",
              "  .colab-df-quickchart-complete:disabled,\n",
              "  .colab-df-quickchart-complete:disabled:hover {\n",
              "    background-color: var(--disabled-bg-color);\n",
              "    fill: var(--disabled-fill-color);\n",
              "    box-shadow: none;\n",
              "  }\n",
              "\n",
              "  .colab-df-spinner {\n",
              "    border: 2px solid var(--fill-color);\n",
              "    border-color: transparent;\n",
              "    border-bottom-color: var(--fill-color);\n",
              "    animation:\n",
              "      spin 1s steps(1) infinite;\n",
              "  }\n",
              "\n",
              "  @keyframes spin {\n",
              "    0% {\n",
              "      border-color: transparent;\n",
              "      border-bottom-color: var(--fill-color);\n",
              "      border-left-color: var(--fill-color);\n",
              "    }\n",
              "    20% {\n",
              "      border-color: transparent;\n",
              "      border-left-color: var(--fill-color);\n",
              "      border-top-color: var(--fill-color);\n",
              "    }\n",
              "    30% {\n",
              "      border-color: transparent;\n",
              "      border-left-color: var(--fill-color);\n",
              "      border-top-color: var(--fill-color);\n",
              "      border-right-color: var(--fill-color);\n",
              "    }\n",
              "    40% {\n",
              "      border-color: transparent;\n",
              "      border-right-color: var(--fill-color);\n",
              "      border-top-color: var(--fill-color);\n",
              "    }\n",
              "    60% {\n",
              "      border-color: transparent;\n",
              "      border-right-color: var(--fill-color);\n",
              "    }\n",
              "    80% {\n",
              "      border-color: transparent;\n",
              "      border-right-color: var(--fill-color);\n",
              "      border-bottom-color: var(--fill-color);\n",
              "    }\n",
              "    90% {\n",
              "      border-color: transparent;\n",
              "      border-bottom-color: var(--fill-color);\n",
              "    }\n",
              "  }\n",
              "</style>\n",
              "\n",
              "  <script>\n",
              "    async function quickchart(key) {\n",
              "      const quickchartButtonEl =\n",
              "        document.querySelector('#' + key + ' button');\n",
              "      quickchartButtonEl.disabled = true;  // To prevent multiple clicks.\n",
              "      quickchartButtonEl.classList.add('colab-df-spinner');\n",
              "      try {\n",
              "        const charts = await google.colab.kernel.invokeFunction(\n",
              "            'suggestCharts', [key], {});\n",
              "      } catch (error) {\n",
              "        console.error('Error during call to suggestCharts:', error);\n",
              "      }\n",
              "      quickchartButtonEl.classList.remove('colab-df-spinner');\n",
              "      quickchartButtonEl.classList.add('colab-df-quickchart-complete');\n",
              "    }\n",
              "    (() => {\n",
              "      let quickchartButtonEl =\n",
              "        document.querySelector('#df-983be393-c3d4-4e25-a06e-f85d91c00ab9 button');\n",
              "      quickchartButtonEl.style.display =\n",
              "        google.colab.kernel.accessAllowed ? 'block' : 'none';\n",
              "    })();\n",
              "  </script>\n",
              "</div>\n",
              "    </div>\n",
              "  </div>\n"
            ],
            "text/plain": [
              "      Age  Gender Education Level                      Job Title  \\\n",
              "0    32.0    Male      Bachelor's              Software Engineer   \n",
              "1    28.0  Female        Master's                   Data Analyst   \n",
              "2    45.0    Male             PhD                 Senior Manager   \n",
              "3    36.0  Female      Bachelor's                Sales Associate   \n",
              "4    52.0    Male        Master's                       Director   \n",
              "..    ...     ...             ...                            ...   \n",
              "370  35.0  Female      Bachelor's       Senior Marketing Analyst   \n",
              "371  43.0    Male        Master's         Director of Operations   \n",
              "372  29.0  Female      Bachelor's         Junior Project Manager   \n",
              "373  34.0    Male      Bachelor's  Senior Operations Coordinator   \n",
              "374  44.0  Female             PhD        Senior Business Analyst   \n",
              "\n",
              "     Years of Experience    Salary  \n",
              "0                    5.0   90000.0  \n",
              "1                    3.0   65000.0  \n",
              "2                   15.0  150000.0  \n",
              "3                    7.0   60000.0  \n",
              "4                   20.0  200000.0  \n",
              "..                   ...       ...  \n",
              "370                  8.0   85000.0  \n",
              "371                 19.0  170000.0  \n",
              "372                  2.0   40000.0  \n",
              "373                  7.0   90000.0  \n",
              "374                 15.0  150000.0  \n",
              "\n",
              "[373 rows x 6 columns]"
            ]
          },
          "execution_count": 70,
          "metadata": {},
          "output_type": "execute_result"
        }
      ],
      "source": [
        "insured"
      ]
    },
    {
      "cell_type": "code",
      "execution_count": null,
      "metadata": {
        "colab": {
          "base_uri": "https://localhost:8080/",
          "height": 143
        },
        "id": "z_QXLanwawdZ",
        "outputId": "5d041292-d4ad-45d0-adfe-5d0f89f448d7"
      },
      "outputs": [
        {
          "data": {
            "text/html": [
              "\n",
              "  <div id=\"df-2b30b9cb-5db1-4107-993e-538b05eecb15\" class=\"colab-df-container\">\n",
              "    <div>\n",
              "<style scoped>\n",
              "    .dataframe tbody tr th:only-of-type {\n",
              "        vertical-align: middle;\n",
              "    }\n",
              "\n",
              "    .dataframe tbody tr th {\n",
              "        vertical-align: top;\n",
              "    }\n",
              "\n",
              "    .dataframe thead th {\n",
              "        text-align: right;\n",
              "    }\n",
              "</style>\n",
              "<table border=\"1\" class=\"dataframe\">\n",
              "  <thead>\n",
              "    <tr style=\"text-align: right;\">\n",
              "      <th></th>\n",
              "      <th>Age</th>\n",
              "      <th>Years of Experience</th>\n",
              "      <th>Salary</th>\n",
              "    </tr>\n",
              "  </thead>\n",
              "  <tbody>\n",
              "    <tr>\n",
              "      <th>Age</th>\n",
              "      <td>1.000000</td>\n",
              "      <td>0.979128</td>\n",
              "      <td>0.922335</td>\n",
              "    </tr>\n",
              "    <tr>\n",
              "      <th>Years of Experience</th>\n",
              "      <td>0.979128</td>\n",
              "      <td>1.000000</td>\n",
              "      <td>0.930338</td>\n",
              "    </tr>\n",
              "    <tr>\n",
              "      <th>Salary</th>\n",
              "      <td>0.922335</td>\n",
              "      <td>0.930338</td>\n",
              "      <td>1.000000</td>\n",
              "    </tr>\n",
              "  </tbody>\n",
              "</table>\n",
              "</div>\n",
              "    <div class=\"colab-df-buttons\">\n",
              "\n",
              "  <div class=\"colab-df-container\">\n",
              "    <button class=\"colab-df-convert\" onclick=\"convertToInteractive('df-2b30b9cb-5db1-4107-993e-538b05eecb15')\"\n",
              "            title=\"Convert this dataframe to an interactive table.\"\n",
              "            style=\"display:none;\">\n",
              "\n",
              "  <svg xmlns=\"http://www.w3.org/2000/svg\" height=\"24px\" viewBox=\"0 -960 960 960\">\n",
              "    <path d=\"M120-120v-720h720v720H120Zm60-500h600v-160H180v160Zm220 220h160v-160H400v160Zm0 220h160v-160H400v160ZM180-400h160v-160H180v160Zm440 0h160v-160H620v160ZM180-180h160v-160H180v160Zm440 0h160v-160H620v160Z\"/>\n",
              "  </svg>\n",
              "    </button>\n",
              "\n",
              "  <style>\n",
              "    .colab-df-container {\n",
              "      display:flex;\n",
              "      gap: 12px;\n",
              "    }\n",
              "\n",
              "    .colab-df-convert {\n",
              "      background-color: #E8F0FE;\n",
              "      border: none;\n",
              "      border-radius: 50%;\n",
              "      cursor: pointer;\n",
              "      display: none;\n",
              "      fill: #1967D2;\n",
              "      height: 32px;\n",
              "      padding: 0 0 0 0;\n",
              "      width: 32px;\n",
              "    }\n",
              "\n",
              "    .colab-df-convert:hover {\n",
              "      background-color: #E2EBFA;\n",
              "      box-shadow: 0px 1px 2px rgba(60, 64, 67, 0.3), 0px 1px 3px 1px rgba(60, 64, 67, 0.15);\n",
              "      fill: #174EA6;\n",
              "    }\n",
              "\n",
              "    .colab-df-buttons div {\n",
              "      margin-bottom: 4px;\n",
              "    }\n",
              "\n",
              "    [theme=dark] .colab-df-convert {\n",
              "      background-color: #3B4455;\n",
              "      fill: #D2E3FC;\n",
              "    }\n",
              "\n",
              "    [theme=dark] .colab-df-convert:hover {\n",
              "      background-color: #434B5C;\n",
              "      box-shadow: 0px 1px 3px 1px rgba(0, 0, 0, 0.15);\n",
              "      filter: drop-shadow(0px 1px 2px rgba(0, 0, 0, 0.3));\n",
              "      fill: #FFFFFF;\n",
              "    }\n",
              "  </style>\n",
              "\n",
              "    <script>\n",
              "      const buttonEl =\n",
              "        document.querySelector('#df-2b30b9cb-5db1-4107-993e-538b05eecb15 button.colab-df-convert');\n",
              "      buttonEl.style.display =\n",
              "        google.colab.kernel.accessAllowed ? 'block' : 'none';\n",
              "\n",
              "      async function convertToInteractive(key) {\n",
              "        const element = document.querySelector('#df-2b30b9cb-5db1-4107-993e-538b05eecb15');\n",
              "        const dataTable =\n",
              "          await google.colab.kernel.invokeFunction('convertToInteractive',\n",
              "                                                    [key], {});\n",
              "        if (!dataTable) return;\n",
              "\n",
              "        const docLinkHtml = 'Like what you see? Visit the ' +\n",
              "          '<a target=\"_blank\" href=https://colab.research.google.com/notebooks/data_table.ipynb>data table notebook</a>'\n",
              "          + ' to learn more about interactive tables.';\n",
              "        element.innerHTML = '';\n",
              "        dataTable['output_type'] = 'display_data';\n",
              "        await google.colab.output.renderOutput(dataTable, element);\n",
              "        const docLink = document.createElement('div');\n",
              "        docLink.innerHTML = docLinkHtml;\n",
              "        element.appendChild(docLink);\n",
              "      }\n",
              "    </script>\n",
              "  </div>\n",
              "\n",
              "\n",
              "<div id=\"df-7823162a-ecc1-4dfe-86f6-d38603c54f1a\">\n",
              "  <button class=\"colab-df-quickchart\" onclick=\"quickchart('df-7823162a-ecc1-4dfe-86f6-d38603c54f1a')\"\n",
              "            title=\"Suggest charts.\"\n",
              "            style=\"display:none;\">\n",
              "\n",
              "<svg xmlns=\"http://www.w3.org/2000/svg\" height=\"24px\"viewBox=\"0 0 24 24\"\n",
              "     width=\"24px\">\n",
              "    <g>\n",
              "        <path d=\"M19 3H5c-1.1 0-2 .9-2 2v14c0 1.1.9 2 2 2h14c1.1 0 2-.9 2-2V5c0-1.1-.9-2-2-2zM9 17H7v-7h2v7zm4 0h-2V7h2v10zm4 0h-2v-4h2v4z\"/>\n",
              "    </g>\n",
              "</svg>\n",
              "  </button>\n",
              "\n",
              "<style>\n",
              "  .colab-df-quickchart {\n",
              "      --bg-color: #E8F0FE;\n",
              "      --fill-color: #1967D2;\n",
              "      --hover-bg-color: #E2EBFA;\n",
              "      --hover-fill-color: #174EA6;\n",
              "      --disabled-fill-color: #AAA;\n",
              "      --disabled-bg-color: #DDD;\n",
              "  }\n",
              "\n",
              "  [theme=dark] .colab-df-quickchart {\n",
              "      --bg-color: #3B4455;\n",
              "      --fill-color: #D2E3FC;\n",
              "      --hover-bg-color: #434B5C;\n",
              "      --hover-fill-color: #FFFFFF;\n",
              "      --disabled-bg-color: #3B4455;\n",
              "      --disabled-fill-color: #666;\n",
              "  }\n",
              "\n",
              "  .colab-df-quickchart {\n",
              "    background-color: var(--bg-color);\n",
              "    border: none;\n",
              "    border-radius: 50%;\n",
              "    cursor: pointer;\n",
              "    display: none;\n",
              "    fill: var(--fill-color);\n",
              "    height: 32px;\n",
              "    padding: 0;\n",
              "    width: 32px;\n",
              "  }\n",
              "\n",
              "  .colab-df-quickchart:hover {\n",
              "    background-color: var(--hover-bg-color);\n",
              "    box-shadow: 0 1px 2px rgba(60, 64, 67, 0.3), 0 1px 3px 1px rgba(60, 64, 67, 0.15);\n",
              "    fill: var(--button-hover-fill-color);\n",
              "  }\n",
              "\n",
              "  .colab-df-quickchart-complete:disabled,\n",
              "  .colab-df-quickchart-complete:disabled:hover {\n",
              "    background-color: var(--disabled-bg-color);\n",
              "    fill: var(--disabled-fill-color);\n",
              "    box-shadow: none;\n",
              "  }\n",
              "\n",
              "  .colab-df-spinner {\n",
              "    border: 2px solid var(--fill-color);\n",
              "    border-color: transparent;\n",
              "    border-bottom-color: var(--fill-color);\n",
              "    animation:\n",
              "      spin 1s steps(1) infinite;\n",
              "  }\n",
              "\n",
              "  @keyframes spin {\n",
              "    0% {\n",
              "      border-color: transparent;\n",
              "      border-bottom-color: var(--fill-color);\n",
              "      border-left-color: var(--fill-color);\n",
              "    }\n",
              "    20% {\n",
              "      border-color: transparent;\n",
              "      border-left-color: var(--fill-color);\n",
              "      border-top-color: var(--fill-color);\n",
              "    }\n",
              "    30% {\n",
              "      border-color: transparent;\n",
              "      border-left-color: var(--fill-color);\n",
              "      border-top-color: var(--fill-color);\n",
              "      border-right-color: var(--fill-color);\n",
              "    }\n",
              "    40% {\n",
              "      border-color: transparent;\n",
              "      border-right-color: var(--fill-color);\n",
              "      border-top-color: var(--fill-color);\n",
              "    }\n",
              "    60% {\n",
              "      border-color: transparent;\n",
              "      border-right-color: var(--fill-color);\n",
              "    }\n",
              "    80% {\n",
              "      border-color: transparent;\n",
              "      border-right-color: var(--fill-color);\n",
              "      border-bottom-color: var(--fill-color);\n",
              "    }\n",
              "    90% {\n",
              "      border-color: transparent;\n",
              "      border-bottom-color: var(--fill-color);\n",
              "    }\n",
              "  }\n",
              "</style>\n",
              "\n",
              "  <script>\n",
              "    async function quickchart(key) {\n",
              "      const quickchartButtonEl =\n",
              "        document.querySelector('#' + key + ' button');\n",
              "      quickchartButtonEl.disabled = true;  // To prevent multiple clicks.\n",
              "      quickchartButtonEl.classList.add('colab-df-spinner');\n",
              "      try {\n",
              "        const charts = await google.colab.kernel.invokeFunction(\n",
              "            'suggestCharts', [key], {});\n",
              "      } catch (error) {\n",
              "        console.error('Error during call to suggestCharts:', error);\n",
              "      }\n",
              "      quickchartButtonEl.classList.remove('colab-df-spinner');\n",
              "      quickchartButtonEl.classList.add('colab-df-quickchart-complete');\n",
              "    }\n",
              "    (() => {\n",
              "      let quickchartButtonEl =\n",
              "        document.querySelector('#df-7823162a-ecc1-4dfe-86f6-d38603c54f1a button');\n",
              "      quickchartButtonEl.style.display =\n",
              "        google.colab.kernel.accessAllowed ? 'block' : 'none';\n",
              "    })();\n",
              "  </script>\n",
              "</div>\n",
              "    </div>\n",
              "  </div>\n"
            ],
            "text/plain": [
              "                          Age  Years of Experience    Salary\n",
              "Age                  1.000000             0.979128  0.922335\n",
              "Years of Experience  0.979128             1.000000  0.930338\n",
              "Salary               0.922335             0.930338  1.000000"
            ]
          },
          "execution_count": 71,
          "metadata": {},
          "output_type": "execute_result"
        }
      ],
      "source": [
        "insured.corr()"
      ]
    },
    {
      "cell_type": "code",
      "execution_count": null,
      "metadata": {
        "id": "0VpdXbeEm6tc"
      },
      "outputs": [],
      "source": []
    },
    {
      "cell_type": "code",
      "execution_count": null,
      "metadata": {
        "colab": {
          "base_uri": "https://localhost:8080/",
          "height": 456
        },
        "id": "v4-b6Vwm3lgw",
        "outputId": "88bff440-b8b0-4a2d-b566-be2de819844d"
      },
      "outputs": [
        {
          "data": {
            "image/png": "[encoded data removed]",
            "text/plain": [
              "<Figure size 1500x500 with 2 Axes>"
            ]
          },
          "metadata": {},
          "output_type": "display_data"
        }
      ],
      "source": [
        "plt.figure(figsize=(15,5))\n",
        "sns.heatmap(insured.corr(),annot=True)\n",
        "plt.show()"
      ]
    },
    {
      "cell_type": "markdown",
      "metadata": {
        "id": "AgiErwny3lgx"
      },
      "source": [
        "**Observation**\n",
        " - There is  very little significant correlation between charges &age and charges and bmi.\n"
      ]
    },
    {
      "cell_type": "code",
      "execution_count": null,
      "metadata": {
        "colab": {
          "base_uri": "https://localhost:8080/",
          "height": 772
        },
        "id": "uyevf_9B3lgx",
        "outputId": "5d9ad29a-880d-4a3c-e52c-6b00dfaafb1c"
      },
      "outputs": [
        {
          "data": {
            "text/plain": [
              "<Figure size 500x500 with 0 Axes>"
            ]
          },
          "metadata": {},
          "output_type": "display_data"
        },
        {
          "data": {
            "image/png": "[encoded data removed]",
            "text/plain": [
              "<Figure size 750x750 with 9 Axes>"
            ]
          },
          "metadata": {},
          "output_type": "display_data"
        }
      ],
      "source": [
        "plt.figure(figsize=(5,5))\n",
        "sns.pairplot(data=insured , corner=True)\n",
        "plt.show()"
      ]
    },
    {
      "cell_type": "code",
      "execution_count": null,
      "metadata": {
        "colab": {
          "base_uri": "https://localhost:8080/",
          "height": 473
        },
        "id": "wLvwmlzo3lgy",
        "outputId": "f348f58b-27f7-496b-bc90-5f9833a61918",
        "scrolled": true
      },
      "outputs": [
        {
          "data": {
            "image/png": "[encoded data removed]",
            "text/plain": [
              "<Figure size 1300x500 with 1 Axes>"
            ]
          },
          "metadata": {},
          "output_type": "display_data"
        }
      ],
      "source": [
        "#smoker vs Sex\n",
        "plt.figure(figsize=(13,5))\n",
        "ax=sns.countplot(x='Education Level',hue='Gender',data=insured)\n",
        "bar_perc(ax,insured['Education Level'])\n"
      ]
    },
    {
      "cell_type": "code",
      "execution_count": null,
      "metadata": {
        "colab": {
          "base_uri": "https://localhost:8080/",
          "height": 473
        },
        "id": "NfNynR-UrWS-",
        "outputId": "5aeaaac1-7acb-419f-824a-e49f796bba9c"
      },
      "outputs": [
        {
          "data": {
            "image/png": "[encoded data removed]",
            "text/plain": [
              "<Figure size 1300x500 with 1 Axes>"
            ]
          },
          "metadata": {},
          "output_type": "display_data"
        }
      ],
      "source": [
        "#Sex vs smoker\n",
        "plt.figure(figsize=(13,5))\n",
        "ax=sns.countplot(x='Gender',hue='Education Level',data=insured)\n",
        "bar_perc(ax,insured['Education Level'])\n"
      ]
    },
    {
      "cell_type": "code",
      "execution_count": null,
      "metadata": {
        "id": "zVAEZKdi3lgy"
      },
      "outputs": [],
      "source": [
        "#smoker vs charges\n",
        "sns.barplot(x=insured.smoker,y=insured.expenses).set(title=\"Smoker vs Charges\")"
      ]
    },
    {
      "cell_type": "code",
      "execution_count": null,
      "metadata": {
        "id": "YROx64kz3lgy"
      },
      "outputs": [],
      "source": [
        "#region vs smoker\n",
        "plt.figure(figsize=(10,5))\n",
        "ax=sns.countplot(x='region',hue='smoker',data=insured)\n",
        "bar_perc(ax,insured['smoker'])\n",
        "ax.set(title=\"Smoker vs Region\")"
      ]
    },
    {
      "cell_type": "code",
      "execution_count": null,
      "metadata": {
        "id": "JW8D40rkszDs"
      },
      "outputs": [],
      "source": [
        "#smoker vs region\n",
        "plt.figure(figsize=(10,5))\n",
        "ax=sns.countplot(x='smoker',hue='region',data=insured)\n",
        "bar_perc(ax,insured['region'])\n",
        "ax.set(title=\"Smoker vs Region\")"
      ]
    },
    {
      "cell_type": "markdown",
      "metadata": {
        "id": "AgFtLzQD3lgy"
      },
      "source": [
        "**Observation**\n",
        "- There are more male smokers than female.\n",
        "- Southeast region has more smokers\n",
        "- Smoker have more costlier claims than nonsmoker."
      ]
    },
    {
      "cell_type": "code",
      "execution_count": null,
      "metadata": {
        "id": "HBOGxUCW3lgz"
      },
      "outputs": [],
      "source": [
        "plt.figure(figsize=(13,5))\n",
        "ax=sns.countplot(x='region',hue='sex',data=insured,palette='spring')\n",
        "bar_perc(ax,insured['sex'])\n",
        "ax.set(title=\"Sex vs Region\")"
      ]
    },
    {
      "cell_type": "markdown",
      "metadata": {
        "id": "44qxP01M3lgz"
      },
      "source": [
        "**Observations**\n",
        " - There are more smokers in southeast region compared to other regions."
      ]
    },
    {
      "cell_type": "code",
      "execution_count": null,
      "metadata": {
        "id": "W-Zv5AaMyTgd"
      },
      "outputs": [],
      "source": [
        "insured.head()"
      ]
    },
    {
      "cell_type": "code",
      "execution_count": null,
      "metadata": {
        "id": "YBkvjZ8JeAeQ"
      },
      "outputs": [],
      "source": [
        "# GROUP BY"
      ]
    },
    {
      "cell_type": "code",
      "execution_count": null,
      "metadata": {
        "id": "rmlTDaxu3lgz"
      },
      "outputs": [],
      "source": [
        "insured.groupby(insured.sex).expenses.mean()      #GROUP BY BY SEX"
      ]
    },
    {
      "cell_type": "code",
      "execution_count": null,
      "metadata": {
        "id": "79Vq2oYKfY9n"
      },
      "outputs": [],
      "source": [
        "insured.groupby(insured.region).expenses.mean()      #GROUP BY BY region"
      ]
    },
    {
      "cell_type": "code",
      "execution_count": null,
      "metadata": {
        "id": "dD11-X3rfkAK"
      },
      "outputs": [],
      "source": [
        "insured.groupby(insured.smoker).expenses.mean()      #GROUP BY BY smoker"
      ]
    },
    {
      "cell_type": "code",
      "execution_count": null,
      "metadata": {
        "id": "whrTZZhvgUrV"
      },
      "outputs": [],
      "source": [
        "insured.groupby(insured.children).expenses.mean()      #GROUP BY BY children"
      ]
    },
    {
      "cell_type": "code",
      "execution_count": null,
      "metadata": {
        "id": "BPnqkdP03lgz"
      },
      "outputs": [],
      "source": [
        "ax = sns.barplot(x=insured.children,y=insured.expenses).set(title=\"Children vs Charges\")\n",
        "# bar_perc(ax,insured['sex'])\n",
        "# ax.set(title=\"Sex vs Region\")"
      ]
    },
    {
      "cell_type": "code",
      "execution_count": null,
      "metadata": {
        "id": "I_BIoxms3lgz"
      },
      "outputs": [],
      "source": [
        "sns.barplot(x=insured.sex,y=insured.expenses).set(title='Sex Vs Charges')"
      ]
    },
    {
      "cell_type": "code",
      "execution_count": null,
      "metadata": {
        "id": "ELTXo95j3lgz"
      },
      "outputs": [],
      "source": [
        "sns.barplot(x='region',y='expenses',data=insured).set(title='Region Vs Charges')"
      ]
    },
    {
      "cell_type": "code",
      "execution_count": null,
      "metadata": {
        "id": "-KW2ifia3lgz",
        "scrolled": true
      },
      "outputs": [],
      "source": [
        "#multivariate\n",
        "plt.figure(figsize=(15,7))\n",
        "sns.lineplot(x = insured[\"age\"], y =insured[\"expenses\"],hue=insured[\"sex\"],ci=1).set(title= 'Cost incured by Age for Female and Males')\n",
        "plt.legend(bbox_to_anchor=(0.5, 1))\n",
        "plt.show()"
      ]
    },
    {
      "cell_type": "code",
      "execution_count": null,
      "metadata": {
        "id": "a72Vb7Fplcev"
      },
      "outputs": [],
      "source": [
        "plt.figure(figsize=(15,7))\n",
        "sns.lineplot(x = insured[\"age\"], y =insured[\"expenses\"],hue=insured[\"sex\"]).set(title= 'Cost incured by Age for Female and Males')\n",
        "plt.legend()\n",
        "plt.show()"
      ]
    },
    {
      "cell_type": "code",
      "execution_count": null,
      "metadata": {
        "id": "avfNiOEz3lg0"
      },
      "outputs": [],
      "source": [
        "#Cross tab\n",
        "df_smoker_char_sex1=pd.crosstab(index=insured.smoker, columns=insured.sex  , values=insured.expenses, aggfunc='mean')\n",
        "df_smoker_char_sex1\n",
        "\n"
      ]
    },
    {
      "cell_type": "code",
      "execution_count": null,
      "metadata": {
        "id": "IE8LnZZ5oDE7"
      },
      "outputs": [],
      "source": [
        "df_smoker_char_sex=pd.crosstab(index=insured.sex, columns=  insured.smoker, values=insured.expenses,aggfunc='sum')\n",
        "df_smoker_char_sex"
      ]
    },
    {
      "cell_type": "code",
      "execution_count": null,
      "metadata": {
        "id": "rYS0mzr4FIto"
      },
      "outputs": [],
      "source": [
        "# plot directly from dataframe"
      ]
    },
    {
      "cell_type": "code",
      "execution_count": null,
      "metadata": {
        "id": "E_ArVmPLmk4L"
      },
      "outputs": [],
      "source": [
        "df_smoker_char_sex1.plot(kind='bar',title=\"Smoker Vs Charges for Males and Females\")\n",
        "plt.legend(loc='upper left')\n",
        "plt.show()"
      ]
    },
    {
      "cell_type": "code",
      "execution_count": null,
      "metadata": {
        "id": "p8bDsia3-MdY"
      },
      "outputs": [],
      "source": [
        "df_smoker_char_sex=pd.crosstab(index=insured.region, columns=  insured.sex, values=insured.expenses,aggfunc='mean')\n",
        "df_smoker_char_sex"
      ]
    },
    {
      "cell_type": "code",
      "execution_count": null,
      "metadata": {
        "id": "Md0H8D8R-gkv"
      },
      "outputs": [],
      "source": [
        "df_smoker_char_sex.plot(kind='bar',title=\"Region Vs Charges for Males and Females\")\n",
        "plt.legend(loc='upper left')\n",
        "plt.show()"
      ]
    },
    {
      "cell_type": "markdown",
      "metadata": {
        "id": "8pN0bByJ3lg0"
      },
      "source": [
        "**Observations**\n",
        " - Charges incurred for males are more than charges incured for females\n",
        " - With increasing age of policy holder charges incured are going high for both male and female.\n",
        " - There some spikes for female at an approximate ages of 23,28,43.\n",
        " - Most claims are from southeast regions.\n",
        " - Males who smoke have most claims and have higher bills\n",
        " - Number of claims made by female who dont smoke is more compared to female who smoke.\n",
        "\n",
        "\n"
      ]
    },
    {
      "cell_type": "code",
      "execution_count": null,
      "metadata": {
        "id": "qcVUEcIe5Ovs"
      },
      "outputs": [],
      "source": [
        "# converting quantitative data to qualitative\n",
        "insured"
      ]
    },
    {
      "cell_type": "code",
      "execution_count": null,
      "metadata": {
        "id": "p-qrpbuo3lg0"
      },
      "outputs": [],
      "source": [
        "#creating groups of bmi\n",
        "category = pd.cut(insured.bmi,bins=[15,25,35,45,55],labels=['15-25','25-35','35-45','45-55'])\n",
        "insured.insert(5,'BMIGroup',category)\n"
      ]
    },
    {
      "cell_type": "code",
      "execution_count": null,
      "metadata": {
        "id": "wo6ms3ei3lg0"
      },
      "outputs": [],
      "source": [
        "insured.head()"
      ]
    },
    {
      "cell_type": "code",
      "execution_count": null,
      "metadata": {
        "id": "PJ9wGArl3lg0"
      },
      "outputs": [],
      "source": [
        "insured.groupby(insured.BMIGroup).expenses.mean()"
      ]
    },
    {
      "cell_type": "code",
      "execution_count": null,
      "metadata": {
        "id": "FjaTwvso3lg1"
      },
      "outputs": [],
      "source": [
        "category1=pd.cut(insured.age,bins=[16,28,38,48,58,68],labels=['16-28','28-38','38-48','48-58','58-68'])\n",
        "insured.insert(6,'AgeBin',category1)"
      ]
    },
    {
      "cell_type": "code",
      "execution_count": null,
      "metadata": {
        "id": "hjr69khrpO6o"
      },
      "outputs": [],
      "source": [
        "insured.head()"
      ]
    },
    {
      "cell_type": "code",
      "execution_count": null,
      "metadata": {
        "id": "6jiXgliu3lg1"
      },
      "outputs": [],
      "source": [
        "age_bin_cat = insured.groupby(insured.AgeBin).expenses.mean()\n",
        "age_bin_cat"
      ]
    },
    {
      "cell_type": "code",
      "execution_count": null,
      "metadata": {
        "id": "T4HnHYA6FuSM"
      },
      "outputs": [],
      "source": [
        "age_bin_cat.plot(kind='bar',title=\"Agebins vs Avg Expenses\")\n"
      ]
    },
    {
      "cell_type": "code",
      "execution_count": null,
      "metadata": {
        "id": "fJYcNXSN3lg1"
      },
      "outputs": [],
      "source": [
        "#multi variate data analysis\n",
        "insured.groupby(['region','sex','smoker']).expenses.mean()"
      ]
    },
    {
      "cell_type": "code",
      "execution_count": null,
      "metadata": {
        "id": "dMxOV7nosWkg"
      },
      "outputs": [],
      "source": [
        "insured.groupby(['region','sex','smoker']).expenses.mean().unstack()"
      ]
    },
    {
      "cell_type": "code",
      "execution_count": null,
      "metadata": {
        "id": "-9hy0BF03lg1"
      },
      "outputs": [],
      "source": [
        "sns.barplot(x=insured.AgeBin,y=insured.expenses).set(title='Age Vs Charges')"
      ]
    },
    {
      "cell_type": "code",
      "execution_count": null,
      "metadata": {
        "id": "5F7zDwY13lg1"
      },
      "outputs": [],
      "source": [
        "sns.barplot(x=insured.BMIGroup,y=insured.expenses)"
      ]
    },
    {
      "cell_type": "code",
      "execution_count": null,
      "metadata": {
        "id": "6B0jJHYW3lg1"
      },
      "outputs": [],
      "source": [
        "plt.figure(figsize=(15,7))\n",
        "sns.barplot(x=insured[\"BMIGroup\"],y=insured[\"age\"],hue=insured['sex'],ci=0).set(title= 'Age and Bmi of Males and Females')\n",
        "plt.legend(bbox_to_anchor=(1.00, 1))\n",
        "plt.show()"
      ]
    },
    {
      "cell_type": "code",
      "execution_count": null,
      "metadata": {
        "id": "Nngx_EZi3lg1"
      },
      "outputs": [],
      "source": [
        "sns.barplot(x='BMIGroup',y='expenses',hue='sex',data=insured).set(title=\"Fig 2:BMI group and Charges \" )"
      ]
    },
    {
      "cell_type": "markdown",
      "metadata": {
        "id": "1c0JrKGw3lg2"
      },
      "source": [
        "**Observations**\n",
        "- FeMales with most BMI has incured most charges to the insurance company\n",
        "- BMI for male and females are not same\n",
        "- Beneficary with higher BMI have incurred more cost to insurance."
      ]
    },
    {
      "cell_type": "code",
      "execution_count": null,
      "metadata": {
        "id": "47aKG1o-3lg2"
      },
      "outputs": [],
      "source": [
        "pd.crosstab(insured['sex'],insured['children'])\n"
      ]
    },
    {
      "cell_type": "code",
      "execution_count": null,
      "metadata": {
        "id": "X2ncw6GI3lg2"
      },
      "outputs": [],
      "source": [
        "sns.relplot(x=insured.BMIGroup, y=insured.expenses, hue=insured.smoker, size= insured.AgeBin,\n",
        "            sizes=(40, 400), palette=\"spring\",\n",
        "            height=6, data=insured).set(title='Charges by Age,BMI,Smoker');"
      ]
    },
    {
      "cell_type": "code",
      "execution_count": null,
      "metadata": {
        "id": "NwMkpX5wCa2_"
      },
      "outputs": [],
      "source": [
        "insured"
      ]
    },
    {
      "cell_type": "code",
      "execution_count": null,
      "metadata": {
        "id": "mC_Lvy_9B6iu"
      },
      "outputs": [],
      "source": [
        "sns.relplot(x=insured.AgeBin, y=insured.expenses, hue=insured.sex, size= insured.BMIGroup,\n",
        "            sizes=(40, 400), palette=\"spring\",\n",
        "            height=6, data=insured).set(title='Charges by Age,BMI,Smoker');"
      ]
    },
    {
      "cell_type": "markdown",
      "metadata": {
        "id": "XV50Kv2L3lg2"
      },
      "source": [
        "**Observation**\n",
        "- Males who smoker have incured more cost compared to nonsmokers.\n",
        "- As age increased claims increased\n",
        "-Smoker have higher medical claims"
      ]
    },
    {
      "cell_type": "markdown",
      "metadata": {
        "id": "ArrLN_or3lg2"
      },
      "source": [
        "# Conclusion based on EDA\n",
        "- As expected , as the age of the beneficiary  increases ,the cost to insurance increases.\n",
        "- Males who smoke have most claims and have higher bills.\n",
        "- Female who are nonsmoker also have more claims to nonsmoker males this may be because of child birth , need to explore claims type to understand better.\n",
        "- Beneficiary with 2 or 3 dependent  have billed higher compared to others people who have 5.This is unusual and may be because of  uneven number of observations in each group. For example, no dependents group has 574 observations whereas five dependents group only has 18.\n",
        "- Customer with bmi  >30 are  on higher side of obesity, have more health issues and have higher claims.\n",
        "- Females with BMI more than 45 have billed higher to insurance.\n",
        "- Age, BMI and Smoking are important attributes which can cost insurance company more.\n"
      ]
    },
    {
      "cell_type": "markdown",
      "metadata": {
        "id": "8pnqJUt03lg2"
      },
      "source": [
        "# Statistical Analysis"
      ]
    },
    {
      "cell_type": "markdown",
      "metadata": {
        "id": "L7XGej3j3lg3"
      },
      "source": [
        "# 1.Prove (or disprove) that the medical claims made by the people who smoke is greater than those who don't?"
      ]
    },
    {
      "cell_type": "markdown",
      "metadata": {
        "id": "vm-i_HI_3lg3"
      },
      "source": [
        "<div class =\"alert alert-block alert-info\">\n",
        "\n",
        "---\n",
        "\n",
        "\n",
        "    <font size=3><b>    Step 1: Define null and alternative hypothesis</b></font><br>\n",
        "$\\ H_0  :  \\mu_1 <= \\mu_2  $ The average charges of smokers is less than or equal to nonsmokers\n",
        " <br>\n",
        "\n",
        "\n",
        "$\\ H_a  :\\mu_1 > \\mu_2 $ The average charges of smokers is greater than nonsmokers  <br>\n",
        "</div>"
      ]
    },
    {
      "cell_type": "markdown",
      "metadata": {
        "id": "JmfdyDl63lg3"
      },
      "source": [
        "<div class =\"alert alert-block alert-info\">\n",
        "    <font size=3><b>Step 2: Decide the significance level. If P values is less than alpha reject the null hypothesis.</b></font>\n",
        "\n",
        "α = 0.05"
      ]
    },
    {
      "cell_type": "markdown",
      "metadata": {
        "id": "4R36EINS3lg3"
      },
      "source": [
        "<div class =\"alert alert-block alert-info\">\n",
        "    <font size=3><b>Step 3: Identify the test</b></font>\n",
        "\n",
        "Standard deviation of the population is not known  ,will perform a T stat test .  The > sign in alternate hypothesis indicate  test is right tailed, that is all z values that would cause us to reject null hypothesis are in just one tail to the right of  sampling  distribution curve.\n",
        "\n",
        "    \n"
      ]
    },
    {
      "cell_type": "markdown",
      "metadata": {
        "id": "i0mADgrX3lg3"
      },
      "source": [
        "<div class =\"alert alert-block alert-info\">\n",
        "    <font size=3><b>Step 4: Calculate the test-statistics and p-value</b></font>"
      ]
    },
    {
      "cell_type": "code",
      "execution_count": null,
      "metadata": {
        "id": "hCu3kdBH3lg3"
      },
      "outputs": [],
      "source": [
        "smoker=insured.loc[insured.smoker==\"yes\"]\n",
        "smoker.head()"
      ]
    },
    {
      "cell_type": "code",
      "execution_count": null,
      "metadata": {
        "id": "KNLw5-zG3lg3"
      },
      "outputs": [],
      "source": [
        "smoker.count()"
      ]
    },
    {
      "cell_type": "code",
      "execution_count": null,
      "metadata": {
        "id": "V7Mo0q2x3lg3"
      },
      "outputs": [],
      "source": [
        "nonsmoker=insured.loc[insured.smoker=='no']\n",
        "nonsmoker.head()"
      ]
    },
    {
      "cell_type": "code",
      "execution_count": null,
      "metadata": {
        "id": "aRYgbX_h3lg4"
      },
      "outputs": [],
      "source": [
        "nonsmoker.count()"
      ]
    },
    {
      "cell_type": "code",
      "execution_count": null,
      "metadata": {
        "id": "KVj2gdpj3lg4"
      },
      "outputs": [],
      "source": [
        "# Adjusting the size of the rows to be equal\n",
        "nonsmoker = nonsmoker[0:274]\n",
        "charges_yes = smoker.expenses\n",
        "charges_no = nonsmoker.expenses"
      ]
    },
    {
      "cell_type": "code",
      "execution_count": null,
      "metadata": {
        "id": "36IQUeJV3lg4"
      },
      "outputs": [],
      "source": [
        "print(f'Average Cost charged to Insurance for smoker is {charges_yes.mean()} and nonsmoker is {charges_no.mean()} ')\n"
      ]
    },
    {
      "cell_type": "code",
      "execution_count": null,
      "metadata": {
        "id": "NQRAQLJc3lg4"
      },
      "outputs": [],
      "source": [
        "#smoker vs charges\n",
        "sns.boxplot(x=insured.expenses,y=insured.smoker,data=insured).set(title=\"Fig:1 Smoker vs Charges\")"
      ]
    },
    {
      "cell_type": "code",
      "execution_count": null,
      "metadata": {
        "id": "e7wnnAdNeZmu"
      },
      "outputs": [],
      "source": [
        "charges_no"
      ]
    },
    {
      "cell_type": "code",
      "execution_count": null,
      "metadata": {
        "id": "t8Z_62n93lg4"
      },
      "outputs": [],
      "source": [
        "alpha = 0.05\n",
        "t_statistic_1, p_value_1 = stats.ttest_ind(charges_yes, charges_no)\n",
        "p_value_onetail=p_value_1/2\n",
        "\n",
        "print(\"Test statistic = {} , Pvalue ={} , OnetailPvalue = {}\".format(t_statistic_1,p_value_1, p_value_onetail ))\n"
      ]
    },
    {
      "cell_type": "code",
      "execution_count": null,
      "metadata": {
        "id": "4m9fkcAz3lg4"
      },
      "outputs": [],
      "source": [
        "if p_value_1 < alpha :\n",
        "    print(f\"Conclusion:Since P value {p_value_onetail} is less than alpha {alpha} \" )\n",
        "    # print(\"Reject Null Hypothesis that Average charges for smokers are less than or equal to nonsmoker.\")\n",
        "\n",
        "else:\n",
        "    print(\"Conclusion:Since P value {} is greater than alpha {} \". format (p_value_onetail,alpha))\n",
        "    # print(\"Failed to Reject Null Hypothesis that Average charges for smokers are less than nonsmoker.\")"
      ]
    },
    {
      "cell_type": "markdown",
      "metadata": {
        "id": "4UDfrff83lg4"
      },
      "source": [
        "<div class =\"alert alert-block alert-info\">\n",
        "    <font size=3><b>Step 5: Decide whethere to  reject or failed to reject null hypothesis</b></font><br>    \n",
        "    We reject the null hypothesis and can conclude that people who smoke have on an average larger medical claim compared to people who don't smoke. Similar result can also been seen in Fig no.1 Smokers Vs Charges"
      ]
    },
    {
      "cell_type": "markdown",
      "metadata": {
        "id": "wCOq1Rbk3lg5"
      },
      "source": [
        "# 2.Prove (or disprove) with statistical evidence that the BMI of females is different from that of males."
      ]
    },
    {
      "cell_type": "markdown",
      "metadata": {
        "id": "MX18y8sc3lg5"
      },
      "source": [
        "<div class =\"alert alert-block alert-info\">\n",
        "    Let $\\mu_1 \\mu_2 $ and be the respective population means for BMI of males and BMI of females<br>\n",
        "    <font size=3><b>    Step 1: Define null and alternative hypothesis</b></font><br>\n",
        "$\\ H_0  : \\mu_1 - \\mu_2 = 0$ There is no difference between the BMI of Male  and BMI of female.<br>\n",
        "$\\ H_a  : \\mu_1 - \\mu_2 !=0 $ There is difference between the BMI of Male and BMI of female. <br>\n",
        "\n",
        "\n",
        "</div>"
      ]
    },
    {
      "cell_type": "markdown",
      "metadata": {
        "id": "gPfw5v0v3lg5"
      },
      "source": [
        "<div class =\"alert alert-block alert-info\">\n",
        "    <font size=3><b>Step 2: Decide the significance level</b></font>\n",
        "\n",
        "α = 0.05"
      ]
    },
    {
      "cell_type": "markdown",
      "metadata": {
        "id": "S3B77nAT3lg5"
      },
      "source": [
        "<div class =\"alert alert-block alert-info\">\n",
        "    <font size=3><b>Step 3:Identify the test</b></font><br>Standard deviation of the population is not known ,will perform a T stat test.Not equal to sign in alternate hypothesis indicate its a two tailed test."
      ]
    },
    {
      "cell_type": "markdown",
      "metadata": {
        "id": "pCxnRSfd3lg5"
      },
      "source": [
        "<div class =\"alert alert-block alert-info\">\n",
        "    <font size=3><b>Step 4: Calculate the test-statistics and p-value</b></font>"
      ]
    },
    {
      "cell_type": "code",
      "execution_count": null,
      "metadata": {
        "id": "TytfV1Fi3lg5"
      },
      "outputs": [],
      "source": [
        "#get all observation for male.\n",
        "df_male=insured.loc[insured.sex==\"male\"]\n",
        "#get all observation for females\n",
        "df_female=insured.loc[insured.sex==\"female\"]\n"
      ]
    },
    {
      "cell_type": "code",
      "execution_count": null,
      "metadata": {
        "id": "jyoKQ5x53lg5"
      },
      "outputs": [],
      "source": [
        "#get bmi of male and female\n",
        "bmi_female=df_female.bmi\n",
        "bmi_male=df_male.bmi"
      ]
    },
    {
      "cell_type": "code",
      "execution_count": null,
      "metadata": {
        "id": "lzpYmmsz3lg5"
      },
      "outputs": [],
      "source": [
        "sns.distplot(bmi_male,color='green',hist=False)\n",
        "sns.distplot(bmi_female,color='red',hist=False)\n"
      ]
    },
    {
      "cell_type": "code",
      "execution_count": null,
      "metadata": {
        "id": "-9XYw05S3lg6"
      },
      "outputs": [],
      "source": [
        "df_female.bmi.mean()"
      ]
    },
    {
      "cell_type": "code",
      "execution_count": null,
      "metadata": {
        "id": "n3Tc1Hwd3lg6"
      },
      "outputs": [],
      "source": [
        "df_male.bmi.mean()"
      ]
    },
    {
      "cell_type": "code",
      "execution_count": null,
      "metadata": {
        "id": "rjikLylw3lg6"
      },
      "outputs": [],
      "source": [
        "# get statistic and p value\n",
        "t_statistic_2, p_value_2 = stats.ttest_ind(bmi_male, bmi_female)\n",
        "print(\"tstats = \",t_statistic_2, \", pvalue = \", p_value_2)"
      ]
    },
    {
      "cell_type": "code",
      "execution_count": null,
      "metadata": {
        "id": "rHwO4HZ_3lg6"
      },
      "outputs": [],
      "source": [
        "if p_value_2 <alpha :\n",
        "    print(\"Conclusion:Since P value {} is less than alpha {} \". format (p_value_2,alpha) )\n",
        "    print(\"Reject Null Hypothesis  that there is no difference in bmi of men and bmi of female.\")\n",
        "\n",
        "else:\n",
        "    print(\"Conclusion:Since P value {} is greater than alpha {} \". format (p_value_2,alpha))\n",
        "    print(\"Failed to Reject Null Hypothesis  that there is difference in bmi of men and bmi of female .\")\n"
      ]
    },
    {
      "cell_type": "markdown",
      "metadata": {
        "id": "s35xCHEV3lg6"
      },
      "source": [
        "<div class =\"alert alert-block alert-info\">\n",
        "    <font size=3><b>Step 5: Decide to reject or accept null hypothesis</b></font><br>\n",
        "     We fail to reject the null hypothesis and can conclude that There is no difference between BMI of Female and BMI of Male."
      ]
    },
    {
      "cell_type": "markdown",
      "metadata": {
        "id": "FrU0Rq0S3lg9"
      },
      "source": [
        "### Recommendation\n",
        "- Based on EDA and statistical  evidence it can be seen that  customer who smoke or   have higher  BMI  have more higher claims. We can encourage customers to quit smoking by providing them  incentive points  for talking to life coach, get help for improving lifestyle habits,  Quit Tobacco- 28 day program. Give gift cards when customer accumulates specific number of points.\n",
        "- We can have Active wellness programs which can help up reduce claims related to BMI.\n",
        "- High BMI  is primarily because of unhealthy life choices. We can provide customers with Diet plans and wellness health coaches which can help them to make right choices.\n",
        "- Provide discount coupons  for Gym  or  fitness devices encouraging customers to exercise.\n"
      ]
    }
  ],
  "metadata": {
    "colab": {
      "provenance": []
    },
    "kernelspec": {
      "display_name": "Python 3 (ipykernel)",
      "language": "python",
      "name": "python3"
    },
    "language_info": {
      "codemirror_mode": {
        "name": "ipython",
        "version": 3
      },
      "file_extension": ".py",
      "mimetype": "text/x-python",
      "name": "python",
      "nbconvert_exporter": "python",
      "pygments_lexer": "ipython3",
      "version": "3.11.3"
    }
  },
  "nbformat": 4,
  "nbformat_minor": 0
}
